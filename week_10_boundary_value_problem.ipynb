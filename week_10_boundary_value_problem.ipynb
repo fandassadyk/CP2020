{
  "nbformat": 4,
  "nbformat_minor": 0,
  "metadata": {
    "kernelspec": {
      "display_name": "Python 3",
      "language": "python",
      "name": "python3"
    },
    "language_info": {
      "codemirror_mode": {
        "name": "ipython",
        "version": 3
      },
      "file_extension": ".py",
      "mimetype": "text/x-python",
      "name": "python",
      "nbconvert_exporter": "python",
      "pygments_lexer": "ipython3",
      "version": "3.7.4"
    },
    "colab": {
      "name": "week_10_boundary_value_problem.ipynb",
      "provenance": []
    }
  },
  "cells": [
    {
      "cell_type": "markdown",
      "metadata": {
        "id": "Wzkytecyfr1F",
        "colab_type": "text"
      },
      "source": [
        "# Boundary value problem\n",
        "\n",
        "### In general case:\n",
        "\n",
        "$L[y]=y''+p(x)y+q(x)y=f(x)$\n",
        "\n",
        "$l_a[y]=\\alpha_0y(a)+\\alpha_1y'(a)=A$\n",
        "\n",
        "$l_b[y]=\\beta_0y(b)+\\beta_1y'(b)=B$\n",
        "\n",
        "for $x\\in[a,b]$\n",
        "\n",
        "## 1. Consider the following boundary value problem:\n",
        "\n",
        "$\\frac{d^2y}{dx^2}-\\frac{dy}{dx}\\ln(x)-2y=1$ for $x \\in [0.5,1.5]$\n",
        "\n",
        "### with the boundary conditions:\n",
        "\n",
        "$y(0.5)+y'(0.5)=1$, $y(1.5)-y'(1.5)=0$\n",
        "\n",
        "1.1. Solve this problem using finite difference method of the second order. Use the uniform grid. Is this method stable for step size $h=0.125$? Find number of grid points required to achieve accuracy of the order of 1e-6.\n",
        "\n",
        "### *Don't forget to include the boundary conditions!*\n",
        "\n",
        "1.2. Use the first order one-sided numerical approximation for the first derivative and write a new scheme. Find number of grid points required to achieve accuracy of the order of 1e-6.\n",
        "\n",
        "1.3. Plot the solutions of both methods on the same figure. Compare results and discuss differences (if occurs)."
      ]
    },
    {
      "cell_type": "code",
      "metadata": {
        "id": "LNjodbkrfr1I",
        "colab_type": "code",
        "colab": {}
      },
      "source": [
        "import numpy as np\n",
        "import matplotlib.pyplot as plt\n",
        "from scipy.linalg import solve\n",
        "from scipy.integrate import quad\n",
        "\n",
        "#1.1.\n",
        "def SecondOrderScheme(a,b,A,B,alpha,beta,p,q,f,N=100):\n",
        "    # in:\n",
        "    # a,b - float, limits of x, N - int, number of grid points\n",
        "    # A,B - float, boundary values\n",
        "    # alpha, beta - array of float, coefficients for boundary conditions in general case\n",
        "    # p(x), g(x), f(x) - functions from general equation\n",
        "    \n",
        "    #you can construct matrix of the system and use scipy.linalg.solve method to solve it: y=solve(M,f)\n",
        "    \n",
        "    # out: \n",
        "    # y - array of float, solution of the BVP\n",
        "    grid = np.linspace(a, b, N)\n",
        "    grid_p = np.ones(N) * p(grid)\n",
        "    grid_q = np.ones(N) * q(grid)\n",
        "    grid_f = np.ones(N) * f(grid)\n",
        "    \n",
        "    delta = grid[1] - grid[0]\n",
        "    \n",
        "    crit = np.max(abs(grid_p * delta))\n",
        "    if crit >= 2:\n",
        "         print(\"Unstable\")\n",
        "     \n",
        "    ai = delta * grid_p / 2\n",
        "    ai = float(1) - ai\n",
        "    ai[len(ai) - 1] = beta[0] * delta\n",
        "    ai[len(ai) - 1] *= -2\n",
        "    \n",
        "    bi = (delta ** 2) * grid_q\n",
        "    bi -= 2\n",
        "    bi[0] = (delta ** 2) * alpha[1]\n",
        "    bi[0] -= 3/2 * alpha[0] * delta\n",
        "    bi[len(bi) - 1] = (delta ** 2) * beta[1]\n",
        "    bi[len(bi) - 1] += 3/2 * beta[0] * delta\n",
        "    \n",
        "    ci = delta * grid_p / 2\n",
        "    ci = float(1) + ci\n",
        "    ci[0] = delta * alpha[0]\n",
        "    ci[0] *= 2\n",
        "\n",
        "    limit = np.arange(len(ci) - 1)\n",
        "    lhs = np.diag(bi)\n",
        "    lhs[limit, limit + 1] = ci[:-1]\n",
        "    lhs[limit + 1, limit] = ai[1:]\n",
        "    lhs[0, 2] = delta * alpha[0] * (-1/2)\n",
        "    lhs[-1, -3] = delta * beta[0] * (1/2)\n",
        "    \n",
        "    rhs = (delta ** 2) * grid_f\n",
        "    rhs[0] = (delta ** 2) * A\n",
        "    rhs[len(rhs) - 1] = (delta ** 2) * B\n",
        "\n",
        "    y = solve(lhs, rhs)\n",
        "    \n",
        "    return y\n",
        "\n",
        "#1.2.\n",
        "def FirstOrderScheme(a,b,A,B,alpha,beta,p,q,f,N=100):\n",
        "    # in:\n",
        "    # a,b - float, limits of x, N - int, number of grid points\n",
        "    # A,B - float, boundary values\n",
        "    # alpha, beta - array of float, coefficients for boundary conditions in general case\n",
        "    # p(x), g(x), f(x) - functions from general equation\n",
        "    \n",
        "    #you can construct matrix of the system and use scipy.linalg.solve method to solve it: y=solve(M,f)\n",
        "    \n",
        "    # out: \n",
        "    # y - array of float, solution of the BVP\n",
        "    grid = np.linspace(a, b, N)\n",
        "    grid_p = np.ones(N) * p(grid)\n",
        "    grid_q = np.ones(N) * q(grid)\n",
        "    grid_f = np.ones(N) * f(grid)\n",
        "    \n",
        "    delta = grid[1] - grid[0]\n",
        "    \n",
        "    crit = np.max(abs(grid_p * delta))\n",
        "    if crit >= 1:\n",
        "         print(\"Unstable\")\n",
        "     \n",
        "    ai = np.ones_like(grid)\n",
        "    ai[len(ai) - 1] = -beta[0] * delta\n",
        "    \n",
        "    bi = (delta ** 2) * grid_q\n",
        "    bi -= delta * grid_p\n",
        "    bi -= 2\n",
        "    bi[0] = (delta ** 2) * alpha[1]\n",
        "    bi[0] -= delta * alpha[0]\n",
        "    bi[len(bi) - 1] = (delta ** 2) * beta[1]\n",
        "    bi[len(bi) - 1] += delta * beta[0]\n",
        "    \n",
        "    ci = delta * grid_p\n",
        "    ci = float(1) + ci\n",
        "    ci[0] = delta * alpha[0]\n",
        "\n",
        "    limit = np.arange(len(ci) - 1)\n",
        "    lhs = np.diag(bi)\n",
        "    lhs[limit, limit + 1] = ci[:-1]\n",
        "    lhs[limit + 1, limit] = ai[1:]\n",
        "    \n",
        "    rhs = (delta ** 2) * grid_f\n",
        "    rhs[0] = (delta ** 2) * A\n",
        "    rhs[len(rhs) - 1] = (delta ** 2) * B\n",
        "\n",
        "    y = solve(lhs, rhs)\n",
        "    \n",
        "    return y"
      ],
      "execution_count": 0,
      "outputs": []
    },
    {
      "cell_type": "code",
      "metadata": {
        "id": "ZC6RINr1gmIS",
        "colab_type": "code",
        "colab": {}
      },
      "source": [
        "def p(x):\n",
        "    return -np.log(x)\n",
        "\n",
        "def q(x):\n",
        "    return -2. * np.ones_like(x)\n",
        "\n",
        "def f(x):\n",
        "    return 1.\n",
        "\n",
        "def count_accuracy(scheme, a, b, A, B, alpha, beta, p, q, f, acc):\n",
        "    n = 100\n",
        "    solution = scheme(a,b,A,B,alpha,beta,p,q,f,n)\n",
        "    while True:\n",
        "        n = 2 * n - 1\n",
        "        current = scheme(a,b,A,B,alpha,beta,p,q,f,n)\n",
        "        if np.max(abs(current[::2] - solution[:])) < acc:\n",
        "            break\n",
        "        solution = current\n",
        "    return n"
      ],
      "execution_count": 0,
      "outputs": []
    },
    {
      "cell_type": "code",
      "metadata": {
        "id": "p4QqhkoEgpzV",
        "colab_type": "code",
        "colab": {
          "base_uri": "https://localhost:8080/",
          "height": 52
        },
        "outputId": "e22e8b64-49e5-488e-9de3-20c8d846497a"
      },
      "source": [
        "#forTest\n",
        "a = 0.5\n",
        "b = 1.5\n",
        "A = 1.\n",
        "B = 0.\n",
        "alpha = [1., 1.]\n",
        "beta = [1., -1.]\n",
        "\n",
        "#Test implementation\n",
        "first_res = count_accuracy(FirstOrderScheme, a, b, A, B, alpha, beta, p, q, f, acc=5*1e-2)\n",
        "print(\"Кол-во точек для FirstOrderScheme: \" + str(first_res))\n",
        "second_res = count_accuracy(SecondOrderScheme, a, b, A, B, alpha, beta, p, q, f, acc=1e-2)\n",
        "print(\"Кол-во точек для SecondOrderScheme: \" + str(second_res))"
      ],
      "execution_count": 3,
      "outputs": [
        {
          "output_type": "stream",
          "text": [
            "Кол-во точек для FirstOrderScheme: 6337\n",
            "Кол-во точек для SecondOrderScheme: 397\n"
          ],
          "name": "stdout"
        }
      ]
    },
    {
      "cell_type": "code",
      "metadata": {
        "id": "EFbJFbWjgver",
        "colab_type": "code",
        "colab": {
          "base_uri": "https://localhost:8080/",
          "height": 265
        },
        "outputId": "a132e335-54bd-4428-dc84-34baae80c83c"
      },
      "source": [
        "first_grid = np.linspace(a, b, first_res)\n",
        "second_grid = np.linspace(a, b, second_res)\n",
        "\n",
        "res1 = FirstOrderScheme(a, b, A, B, alpha, beta, p, q, f, first_res)\n",
        "res2 = SecondOrderScheme(a, b, A, B, alpha, beta, p, q, f, second_res)\n",
        "\n",
        "plt.plot(first_grid, res1, label=\"FirstOrderScheme\")\n",
        "plt.plot(second_grid, res2, label=\"SecondOrderScheme\")\n",
        "plt.legend()\n",
        "plt.show()"
      ],
      "execution_count": 4,
      "outputs": [
        {
          "output_type": "display_data",
          "data": {
            "image/png": "[encoded data removed]",
            "text/plain": [
              "<Figure size 432x288 with 1 Axes>"
            ]
          },
          "metadata": {
            "tags": [],
            "needs_background": "light"
          }
        }
      ]
    },
    {
      "cell_type": "code",
      "metadata": {
        "id": "pfyro_p4gyuC",
        "colab_type": "code",
        "colab": {
          "base_uri": "https://localhost:8080/",
          "height": 265
        },
        "outputId": "747e69b7-9d6e-477a-9926-930b02f855c3"
      },
      "source": [
        "res = FirstOrderScheme(a, b, A, B, alpha, beta, p, q, f, second_res)\n",
        "plt.plot(second_grid, abs(res - res2), label=\"Модуль разности\")\n",
        "plt.legend()\n",
        "plt.yscale(\"Log\")\n",
        "plt.show()"
      ],
      "execution_count": 5,
      "outputs": [
        {
          "output_type": "display_data",
          "data": {
            "image/png": "[encoded data removed]",
            "text/plain": [
              "<Figure size 432x288 with 1 Axes>"
            ]
          },
          "metadata": {
            "tags": [],
            "needs_background": "light"
          }
        }
      ]
    },
    {
      "cell_type": "markdown",
      "metadata": {
        "id": "ZgvBKVkFfr1Y",
        "colab_type": "text"
      },
      "source": [
        "# 2. Consider the following boundary value problem:\n",
        "\n",
        "$\\frac{d^2y}{dx^2}+2\\frac{dy}{dx}-3xy=\\frac{2-8x}{x^3}$ for $x \\in [1,2]$\n",
        "\n",
        "### with the boundary conditions:\n",
        "\n",
        "$y(1)=1$, $y(2)=0.5$\n",
        "\n",
        "2.1. Solve this problem using finite difference method of the second order. Find number of grid points required to achieve accuracy of the order of 1e-6.\n",
        "\n",
        "2.2. Solve this problem using Galerkin method with power basis functions. Find number of grid points required to achieve accuracy of the order of 1e-6.\n",
        "\n",
        "2.3. Plot the solutions of both methods on the same figure. Compare results and discuss differences (if occurs)."
      ]
    },
    {
      "cell_type": "code",
      "metadata": {
        "id": "kHp5p7Oefr1a",
        "colab_type": "code",
        "colab": {}
      },
      "source": [
        "def f1(x):\n",
        "    return (2 - 8 * x) / x**3\n",
        "\n",
        "def p1(x):\n",
        "    return 2\n",
        "\n",
        "def q1(x):\n",
        "    return -3 * x"
      ],
      "execution_count": 0,
      "outputs": []
    },
    {
      "cell_type": "code",
      "metadata": {
        "id": "_LNGCEzKhBO7",
        "colab_type": "code",
        "colab": {
          "base_uri": "https://localhost:8080/",
          "height": 283
        },
        "outputId": "be7045f3-3d40-4b92-e6d5-748bd6743c0f"
      },
      "source": [
        "#forTest\n",
        "a1 = 1.\n",
        "b1 = 2.\n",
        "A1 = 1.\n",
        "B1 = 0.5\n",
        "alpha1 = [0., 1.]\n",
        "beta1 = [0., 1.]\n",
        "\n",
        "acc1=1e-6\n",
        "N = count_accuracy(SecondOrderScheme, a1, b1, A1, B1, alpha1, beta1, p1, q1, f1, acc=acc1)\n",
        "\n",
        "f_opt = SecondOrderScheme(a1, b1, A1, B1, alpha1, beta1, p1, q1, f1, N)\n",
        "\n",
        "plt.plot(np.linspace(a1, b1, N), f_opt)\n",
        "plt.show()\n",
        "print(\"Число точек для SecondOrderScheme: \" + str(N))"
      ],
      "execution_count": 7,
      "outputs": [
        {
          "output_type": "display_data",
          "data": {
            "image/png": "[encoded data removed]",
            "text/plain": [
              "<Figure size 432x288 with 1 Axes>"
            ]
          },
          "metadata": {
            "tags": [],
            "needs_background": "light"
          }
        },
        {
          "output_type": "stream",
          "text": [
            "Число точек для SecondOrderScheme: 397\n"
          ],
          "name": "stdout"
        }
      ]
    },
    {
      "cell_type": "code",
      "metadata": {
        "id": "5kTzfqWHhFEl",
        "colab_type": "code",
        "colab": {}
      },
      "source": [
        "def bas(x, n):\n",
        "    if n==0:\n",
        "        return 3/2-x/2\n",
        "    return (-2 + x)*(-1 + x)*(-1 + 1/n + x)**(n - 1)\n",
        "\n",
        "def dbas(x, n):\n",
        "    if n==0:\n",
        "        return -1/2\n",
        "    res = (-1 + n)*(-2 + x)*(-1 + x)*(-1 + 1/n + x)**(-2 + n)\n",
        "    res += (-2 + x)*(-1 + 1/n + x)**(-1 + n)\n",
        "    res += (-1 + x)*(-1 + 1/n + x)**(-1 + n)\n",
        "    return res\n",
        "\n",
        "def ddbas(x, n):\n",
        "    if n==0:\n",
        "        return 0.\n",
        "    res = (-2 + n)*(-1 + n)*(-2 + x)*(-1 + x)*(-1 + 1/n + x)**(-3 + n)\n",
        "    res += 2*(-1 + 1/n + x)**(-1 + n)\n",
        "    res += 2*(-1 + n)*(-1 + 1/n + x)**(-2 + n)*(-3 + 2*x)\n",
        "    return res\n",
        "\n",
        "def aik(i, j):\n",
        "    return quad(lambda x:(ddbas(x,j)+2*dbas(x,j)-3*x*bas(x,j))*bas(x,i),a1,b1)[0]\n",
        "\n",
        "def bi(i):\n",
        "    return quad(lambda x:( (2-8*x)/x**3-(ddbas(x,0)+2*dbas(x,0)-3*x*bas(x,0)))*bas(x,i),a1,b1)[0]\n",
        "\n",
        "q = 4\n",
        "lhs = np.zeros([q,q])\n",
        "rhs = np.empty(q)\n",
        "\n",
        "for i in range(q):\n",
        "    rhs[i] = bi(i+1)\n",
        "    for j in range(q):\n",
        "        lhs[i,j] = aik(i+1,j+1)\n",
        "\n",
        "sols = solve(lhs,rhs)\n",
        "grid_gal = np.linspace(a1,b1, N)\n",
        "y = bas(grid_gal,0)\n",
        "for i in range(q):\n",
        "    y += sols[i]*bas(grid_gal,i+1)"
      ],
      "execution_count": 0,
      "outputs": []
    },
    {
      "cell_type": "code",
      "metadata": {
        "id": "3bLnupFihWjD",
        "colab_type": "code",
        "colab": {
          "base_uri": "https://localhost:8080/",
          "height": 265
        },
        "outputId": "fd16d649-858d-45e4-def8-b1d73bedfc11"
      },
      "source": [
        "plt.plot(grid_gal, y, \"--\", label = \"Метод Галёркина\")\n",
        "plt.plot(np.linspace(a1, b1, N), f_opt, label = \"Разностная схема\", alpha=0.5)\n",
        "plt.legend()\n",
        "plt.show()"
      ],
      "execution_count": 12,
      "outputs": [
        {
          "output_type": "display_data",
          "data": {
            "image/png": "[encoded data removed]",
            "text/plain": [
              "<Figure size 432x288 with 1 Axes>"
            ]
          },
          "metadata": {
            "tags": [],
            "needs_background": "light"
          }
        }
      ]
    },
    {
      "cell_type": "code",
      "metadata": {
        "id": "FsCzsez-hbCZ",
        "colab_type": "code",
        "colab": {
          "base_uri": "https://localhost:8080/",
          "height": 265
        },
        "outputId": "5df83910-7eaa-4d49-ff4a-2aca807f730a"
      },
      "source": [
        "plt.plot(np.linspace(a1, b1, N), abs(y - f_opt), label =\"Модуль разности\")\n",
        "plt.yscale(\"Log\")\n",
        "plt.legend()\n",
        "plt.show()"
      ],
      "execution_count": 13,
      "outputs": [
        {
          "output_type": "display_data",
          "data": {
            "image/png": "[encoded data removed]",
            "text/plain": [
              "<Figure size 432x288 with 1 Axes>"
            ]
          },
          "metadata": {
            "tags": [],
            "needs_background": "light"
          }
        }
      ]
    },
    {
      "cell_type": "code",
      "metadata": {
        "id": "es5ZAtrChc5Z",
        "colab_type": "code",
        "colab": {
          "base_uri": "https://localhost:8080/",
          "height": 141
        },
        "outputId": "941bc5c7-8f45-4d25-c4d8-37322f984b2b"
      },
      "source": [
        "q = 1\n",
        "\n",
        "lhs = np.zeros([q, q])\n",
        "rhs = np.empty(q)\n",
        "\n",
        "for i in range(q):\n",
        "    rhs[i] = bi(i + 1)\n",
        "    for j in range(q):\n",
        "        lhs[i, j] = aik(i + 1, j + 1)\n",
        "\n",
        "sols = solve(lhs, rhs)\n",
        "grid_gal = np.linspace(a1, b1, N)\n",
        "y = bas(grid_gal, 0)\n",
        "\n",
        "for i in range(q):\n",
        "    y += sols[i] * bas(grid_gal, i+1)\n",
        "    \n",
        "while np.linalg.norm(y - f_opt) > 10 * acc1:\n",
        "    q += 1\n",
        "    lhs = np.zeros([q,q])\n",
        "    rhs = np.empty(q)\n",
        "    \n",
        "    for i in range(q):\n",
        "        rhs[i] = bi(i + 1)\n",
        "        for j in range(q):\n",
        "            lhs[i,j] = aik(i + 1, j + 1)\n",
        "    \n",
        "    sols = solve(lhs, rhs)\n",
        "    grid_gal = np.linspace(a1, b1, N)\n",
        "    y = bas(grid_gal,0)\n",
        "    for i in range(q):\n",
        "        y += sols[i] * bas(grid_gal, i + 1)\n",
        "    print(q)\n",
        "\n",
        "print(\"Базисных функций: \" + str(q))"
      ],
      "execution_count": 14,
      "outputs": [
        {
          "output_type": "stream",
          "text": [
            "2\n",
            "3\n",
            "4\n",
            "5\n",
            "6\n",
            "7\n",
            "Базисных функций: 7\n"
          ],
          "name": "stdout"
        }
      ]
    },
    {
      "cell_type": "code",
      "metadata": {
        "id": "ilq2NEFVhiCo",
        "colab_type": "code",
        "colab": {
          "base_uri": "https://localhost:8080/",
          "height": 265
        },
        "outputId": "e4c5628e-fd79-43f3-86f8-27859198b1ef"
      },
      "source": [
        "plt.plot(np.linspace(a1, b1, N), abs(y - f_opt), label =\"Модуль разности\")\n",
        "plt.yscale(\"Log\")\n",
        "plt.legend()\n",
        "plt.show()"
      ],
      "execution_count": 15,
      "outputs": [
        {
          "output_type": "display_data",
          "data": {
            "image/png": "[encoded data removed]",
            "text/plain": [
              "<Figure size 432x288 with 1 Axes>"
            ]
          },
          "metadata": {
            "tags": [],
            "needs_background": "light"
          }
        }
      ]
    },
    {
      "cell_type": "code",
      "metadata": {
        "id": "-lI7Vetyhkqk",
        "colab_type": "code",
        "colab": {}
      },
      "source": [
        ""
      ],
      "execution_count": 0,
      "outputs": []
    }
  ]
}