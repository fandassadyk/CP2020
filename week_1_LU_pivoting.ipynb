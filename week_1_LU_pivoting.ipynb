{
  "nbformat": 4,
  "nbformat_minor": 0,
  "metadata": {
    "kernelspec": {
      "display_name": "Python 3",
      "language": "python",
      "name": "python3"
    },
    "language_info": {
      "codemirror_mode": {
        "name": "ipython",
        "version": 3
      },
      "file_extension": ".py",
      "mimetype": "text/x-python",
      "name": "python",
      "nbconvert_exporter": "python",
      "pygments_lexer": "ipython3",
      "version": "3.5.2"
    },
    "colab": {
      "name": "week_1_LU_pivoting.ipynb",
      "provenance": []
    }
  },
  "cells": [
    {
      "cell_type": "markdown",
      "metadata": {
        "id": "qgCAL32gI7sR",
        "colab_type": "text"
      },
      "source": [
        "# I. $LU$ factorization of a square matrix"
      ]
    },
    {
      "cell_type": "markdown",
      "metadata": {
        "id": "lrCyC0WdI7sh",
        "colab_type": "text"
      },
      "source": [
        "Consider a simple naive implementation of the LU decomposition. \n",
        "\n",
        "Note that we're using the `numpy` arrays to represent matrices [do **not** use `np.matrix`]."
      ]
    },
    {
      "cell_type": "code",
      "metadata": {
        "id": "u568YmxrI7sr",
        "colab_type": "code",
        "colab": {}
      },
      "source": [
        "import numpy as np\n",
        "\n",
        "def diy_lu(a):\n",
        "    \"\"\"Construct the LU decomposition of the input matrix.\n",
        "    \n",
        "    Naive LU decomposition: work column by column, accumulate elementary triangular matrices.\n",
        "    No pivoting.\n",
        "    \"\"\"\n",
        "    N = a.shape[0]\n",
        "    \n",
        "    u = a.copy()\n",
        "    L = np.eye(N)\n",
        "    for j in range(N-1):\n",
        "        lam = np.eye(N)\n",
        "        gamma = u[j+1:, j] / u[j, j]\n",
        "        lam[j+1:, j] = -gamma\n",
        "        u = lam @ u\n",
        "\n",
        "        lam[j+1:, j] = gamma\n",
        "        L = L @ lam\n",
        "    return L, u"
      ],
      "execution_count": 0,
      "outputs": []
    },
    {
      "cell_type": "code",
      "metadata": {
        "id": "wYIjNeF4I7tF",
        "colab_type": "code",
        "colab": {
          "base_uri": "https://localhost:8080/",
          "height": 35
        },
        "outputId": "d24ffa42-aa8a-410e-b661-c24e8d459e45"
      },
      "source": [
        "# Now, generate a full rank matrix and test the naive implementation\n",
        "\n",
        "import numpy as np\n",
        "\n",
        "N = 6\n",
        "a = np.zeros((N, N), dtype=float)\n",
        "for i in range(N):\n",
        "    for j in range(N):\n",
        "        a[i, j] = 3. / (0.6*i*j + 1)\n",
        "\n",
        "np.linalg.matrix_rank(a)"
      ],
      "execution_count": 2,
      "outputs": [
        {
          "output_type": "execute_result",
          "data": {
            "text/plain": [
              "6"
            ]
          },
          "metadata": {
            "tags": []
          },
          "execution_count": 2
        }
      ]
    },
    {
      "cell_type": "code",
      "metadata": {
        "id": "sgooKjRuI7tb",
        "colab_type": "code",
        "colab": {}
      },
      "source": [
        "# Tweak the printing of floating-point numbers, for clarity\n",
        "np.set_printoptions(precision=3)"
      ],
      "execution_count": 0,
      "outputs": []
    },
    {
      "cell_type": "code",
      "metadata": {
        "id": "BN8xXF1mI7ty",
        "colab_type": "code",
        "colab": {},
        "outputId": "39ded472-b745-42ee-90c7-9c8ce17d0323"
      },
      "source": [
        "L, u = diy_lu(a)\n",
        "\n",
        "print(L, \"\\n\")\n",
        "print(u, \"\\n\")\n",
        "\n",
        "# Quick sanity check: L times U must equal the original matrix, up to floating-point errors.\n",
        "print(L@u - a)"
      ],
      "execution_count": 0,
      "outputs": [
        {
          "output_type": "stream",
          "text": [
            "[[ 1.     0.     0.     0.     0.     0.   ]\n",
            " [ 1.     1.     0.     0.     0.     0.   ]\n",
            " [ 1.     1.455  1.     0.     0.     0.   ]\n",
            " [ 1.     1.714  1.742  1.     0.     0.   ]\n",
            " [ 1.     1.882  2.276  2.039  1.     0.   ]\n",
            " [ 1.     2.     2.671  2.944  2.354  1.   ]] \n",
            "\n",
            "[[  3.000e+00   3.000e+00   3.000e+00   3.000e+00   3.000e+00   3.000e+00]\n",
            " [  0.000e+00  -1.125e+00  -1.636e+00  -1.929e+00  -2.118e+00  -2.250e+00]\n",
            " [  0.000e+00   0.000e+00   2.625e-01   4.574e-01   5.975e-01   7.013e-01]\n",
            " [  0.000e+00   2.220e-16   0.000e+00  -2.197e-02  -4.480e-02  -6.469e-02]\n",
            " [  0.000e+00  -4.528e-16   0.000e+00   6.939e-18   8.080e-04   1.902e-03]\n",
            " [  0.000e+00   4.123e-16   0.000e+00  -1.634e-17   0.000e+00  -1.585e-05]] \n",
            "\n",
            "[[  0.000e+00   0.000e+00   0.000e+00   0.000e+00   0.000e+00   0.000e+00]\n",
            " [  0.000e+00   0.000e+00   0.000e+00   0.000e+00   0.000e+00   0.000e+00]\n",
            " [  0.000e+00   0.000e+00   0.000e+00   2.220e-16  -1.110e-16  -1.665e-16]\n",
            " [  0.000e+00   0.000e+00   2.220e-16  -5.551e-17  -1.665e-16  -1.665e-16]\n",
            " [  0.000e+00   0.000e+00  -1.110e-16  -1.665e-16   1.665e-16   5.551e-17]\n",
            " [  0.000e+00   0.000e+00  -1.665e-16  -1.665e-16   5.551e-17   0.000e+00]]\n"
          ],
          "name": "stdout"
        }
      ]
    },
    {
      "cell_type": "markdown",
      "metadata": {
        "id": "AsYwq5omI7uJ",
        "colab_type": "text"
      },
      "source": [
        "# II. The need for pivoting"
      ]
    },
    {
      "cell_type": "markdown",
      "metadata": {
        "id": "en_fcHsHI7uT",
        "colab_type": "text"
      },
      "source": [
        "Let's tweak the matrix a little bit, we only change a single element:"
      ]
    },
    {
      "cell_type": "code",
      "metadata": {
        "id": "dFS2SLgAI7ub",
        "colab_type": "code",
        "colab": {}
      },
      "source": [
        "a1 = a.copy()\n",
        "a1[1, 1] = 3"
      ],
      "execution_count": 0,
      "outputs": []
    },
    {
      "cell_type": "markdown",
      "metadata": {
        "id": "4Yo5Eq6zI7vK",
        "colab_type": "text"
      },
      "source": [
        "Resulting matix still has full rank, but the naive LU routine breaks down."
      ]
    },
    {
      "cell_type": "code",
      "metadata": {
        "id": "YgOkOIsBI7vb",
        "colab_type": "code",
        "colab": {},
        "outputId": "e96f791e-7442-4f76-91f2-d4293f686055"
      },
      "source": [
        "np.linalg.matrix_rank(a1)"
      ],
      "execution_count": 0,
      "outputs": [
        {
          "output_type": "execute_result",
          "data": {
            "text/plain": [
              "6"
            ]
          },
          "metadata": {
            "tags": []
          },
          "execution_count": 7
        }
      ]
    },
    {
      "cell_type": "code",
      "metadata": {
        "id": "j3WMmHPiI7vw",
        "colab_type": "code",
        "colab": {},
        "outputId": "8a7b0ca6-de23-4fb8-a4eb-4735dee48692"
      },
      "source": [
        "l, u = diy_lu(a1)\n",
        "\n",
        "print(l, u)"
      ],
      "execution_count": 0,
      "outputs": [
        {
          "output_type": "stream",
          "text": [
            "[[ nan  nan  nan  nan  nan  nan]\n",
            " [ nan  nan  nan  nan  nan  nan]\n",
            " [ nan  nan  nan  nan  nan  nan]\n",
            " [ nan  nan  nan  nan  nan  nan]\n",
            " [ nan  nan  nan  nan  nan  nan]\n",
            " [ nan  nan  nan  nan  nan  nan]] [[ nan  nan  nan  nan  nan  nan]\n",
            " [ nan  nan  nan  nan  nan  nan]\n",
            " [ nan  nan  nan  nan  nan  nan]\n",
            " [ nan  nan  nan  nan  nan  nan]\n",
            " [ nan  nan  nan  nan  nan  nan]\n",
            " [ nan  nan  nan  nan  nan  nan]]\n"
          ],
          "name": "stdout"
        }
      ]
    },
    {
      "cell_type": "markdown",
      "metadata": {
        "id": "oMSTzqZJI7v7",
        "colab_type": "text"
      },
      "source": [
        "### Test II.1\n",
        "\n",
        "For a naive LU decomposition to work, all leading minors of a matrix should be non-zero. Check if this requirement is satisfied for the two matrices `a` and `a1`.\n",
        "\n",
        "(20% of the grade)"
      ]
    },
    {
      "cell_type": "code",
      "metadata": {
        "id": "QnvnrQ08I7wE",
        "colab_type": "code",
        "colab": {}
      },
      "source": [
        "def check_minors(a):\n",
        "  m = 0\n",
        "  for N in range(a.shape[0] + 1):\n",
        "    n = np.zeros((N, N), dtype=float)\n",
        "    for k in range(N):\n",
        "      for l in range(N):\n",
        "        n[k,l]=a[k,l]\n",
        "    if np.linalg.det(n) == 0:\n",
        "      m += 1\n",
        "      return False\n",
        "  if m == 0:\n",
        "    return True"
      ],
      "execution_count": 0,
      "outputs": []
    },
    {
      "cell_type": "code",
      "metadata": {
        "id": "dS6N0EkNR0Up",
        "colab_type": "code",
        "colab": {
          "base_uri": "https://localhost:8080/",
          "height": 35
        },
        "outputId": "a394357b-c2bb-49b4-91c9-989f9728552c"
      },
      "source": [
        "check_minors(a)"
      ],
      "execution_count": 12,
      "outputs": [
        {
          "output_type": "execute_result",
          "data": {
            "text/plain": [
              "True"
            ]
          },
          "metadata": {
            "tags": []
          },
          "execution_count": 12
        }
      ]
    },
    {
      "cell_type": "code",
      "metadata": {
        "id": "aeoECi6GSh7c",
        "colab_type": "code",
        "colab": {
          "base_uri": "https://localhost:8080/",
          "height": 35
        },
        "outputId": "499f17cb-d206-4ebc-d749-188cd875ffe7"
      },
      "source": [
        "check_minors(a1)"
      ],
      "execution_count": 15,
      "outputs": [
        {
          "output_type": "execute_result",
          "data": {
            "text/plain": [
              "False"
            ]
          },
          "metadata": {
            "tags": []
          },
          "execution_count": 15
        }
      ]
    },
    {
      "cell_type": "markdown",
      "metadata": {
        "id": "GbKkkkkdI7wR",
        "colab_type": "text"
      },
      "source": [
        "### Test II.2\n",
        "\n",
        "Modify the `diy_lu` routine to implement column pivoting. Keep track of pivots, you can either construct a permutation matrix, or a swap array (your choice).\n",
        "\n",
        "(40% of the grade)\n",
        "\n",
        "Implement a function to reconstruct the original matrix from a decompositon. Test your routines on the matrices `a` and `a1`.\n",
        "\n",
        "(40% of the grade)"
      ]
    },
    {
      "cell_type": "code",
      "metadata": {
        "id": "MrpO16beI7wV",
        "colab_type": "code",
        "colab": {}
      },
      "source": [
        "def diy_lu_pivoting(a):\n",
        "  N = a.shape[0]\n",
        "  u = a.copy()\n",
        "  L = np.eye(N)\n",
        "  P = L\n",
        "  for j in range(N-1):\n",
        "    n = np.zeros((1, N-j))\n",
        "    for i in range(N-j):\n",
        "      n[0,i]=u[i+j,j]\n",
        "    #row with max element\n",
        "    row_number = np.argmax(abs(n)) + j\n",
        "\n",
        "    p = np.eye(N)\n",
        "    p[j], p[row_number] = p[row_number], p[j].copy()\n",
        "\n",
        "    u=p@u\n",
        "    P=p@P\n",
        "    lam = np.eye(N)\n",
        "    gamma = u[j+1:, j] / u[j, j]\n",
        "    lam[j+1:, j] = -gamma\n",
        "    u = lam @ u\n",
        "\n",
        "    lam[j+1:, j] = gamma\n",
        "    L = L @ lam\n",
        "    return L, u, P\n"
      ],
      "execution_count": 0,
      "outputs": []
    },
    {
      "cell_type": "code",
      "metadata": {
        "id": "Je8KjvqMYESh",
        "colab_type": "code",
        "colab": {
          "base_uri": "https://localhost:8080/",
          "height": 230
        },
        "outputId": "ccac05b4-60e5-4963-9394-5ca46c692c77"
      },
      "source": [
        "L, u, P = diy_lu_pivoting(a)\n",
        "print(L)\n",
        "print(u)"
      ],
      "execution_count": 56,
      "outputs": [
        {
          "output_type": "stream",
          "text": [
            "[[1. 0. 0. 0. 0. 0.]\n",
            " [1. 1. 0. 0. 0. 0.]\n",
            " [1. 0. 1. 0. 0. 0.]\n",
            " [1. 0. 0. 1. 0. 0.]\n",
            " [1. 0. 0. 0. 1. 0.]\n",
            " [1. 0. 0. 0. 0. 1.]]\n",
            "[[ 3.          3.          3.          3.          3.          3.        ]\n",
            " [ 0.         -1.125      -1.63636364 -1.92857143 -2.11764706 -2.25      ]\n",
            " [ 0.         -1.63636364 -2.11764706 -2.34782609 -2.48275862 -2.57142857]\n",
            " [ 0.         -1.92857143 -2.34782609 -2.53125    -2.63414634 -2.7       ]\n",
            " [ 0.         -2.11764706 -2.48275862 -2.63414634 -2.71698113 -2.76923077]\n",
            " [ 0.         -2.25       -2.57142857 -2.7        -2.76923077 -2.8125    ]]\n"
          ],
          "name": "stdout"
        }
      ]
    },
    {
      "cell_type": "markdown",
      "metadata": {
        "id": "V7aSCQnldMbF",
        "colab_type": "text"
      },
      "source": [
        "Implement a function to reconstruct the original matrix from a decompositon. Test your routines on the matrices a and a1."
      ]
    },
    {
      "cell_type": "code",
      "metadata": {
        "id": "Ak3CjsHwa_oF",
        "colab_type": "code",
        "colab": {}
      },
      "source": [
        "def get_a(L, u, P):\n",
        "  return np.linalg.inv(P)@L@u"
      ],
      "execution_count": 0,
      "outputs": []
    },
    {
      "cell_type": "code",
      "metadata": {
        "id": "ztTrZds4bQt8",
        "colab_type": "code",
        "colab": {
          "base_uri": "https://localhost:8080/",
          "height": 337
        },
        "outputId": "affcc880-b618-4e05-8061-9fb42f517ef7"
      },
      "source": [
        "#check for matrix a\n",
        "P, L, u = diy_lu_pivoting(a)\n",
        "b = get_a(P,L,u)\n",
        "print(b)\n",
        "print(b-a)"
      ],
      "execution_count": 58,
      "outputs": [
        {
          "output_type": "stream",
          "text": [
            "[[3.         3.         3.         3.         3.         3.        ]\n",
            " [3.         1.875      1.36363636 1.07142857 0.88235294 0.75      ]\n",
            " [3.         1.36363636 0.88235294 0.65217391 0.51724138 0.42857143]\n",
            " [3.         1.07142857 0.65217391 0.46875    0.36585366 0.3       ]\n",
            " [3.         0.88235294 0.51724138 0.36585366 0.28301887 0.23076923]\n",
            " [3.         0.75       0.42857143 0.3        0.23076923 0.1875    ]]\n",
            "[[ 0.00000000e+00  0.00000000e+00  0.00000000e+00  0.00000000e+00\n",
            "   0.00000000e+00  0.00000000e+00]\n",
            " [ 0.00000000e+00  0.00000000e+00  0.00000000e+00  0.00000000e+00\n",
            "   0.00000000e+00  0.00000000e+00]\n",
            " [ 0.00000000e+00  0.00000000e+00  0.00000000e+00  2.22044605e-16\n",
            "  -1.11022302e-16 -1.66533454e-16]\n",
            " [ 0.00000000e+00  0.00000000e+00  2.22044605e-16 -5.55111512e-17\n",
            "  -1.66533454e-16 -1.66533454e-16]\n",
            " [ 0.00000000e+00  0.00000000e+00 -1.11022302e-16 -1.66533454e-16\n",
            "   1.66533454e-16  5.55111512e-17]\n",
            " [ 0.00000000e+00  0.00000000e+00 -1.66533454e-16 -1.66533454e-16\n",
            "   5.55111512e-17  0.00000000e+00]]\n"
          ],
          "name": "stdout"
        }
      ]
    },
    {
      "cell_type": "code",
      "metadata": {
        "id": "FvC1zRTWbrbq",
        "colab_type": "code",
        "colab": {
          "base_uri": "https://localhost:8080/",
          "height": 337
        },
        "outputId": "e349d181-b56c-4cbe-a583-ddc42f080c2b"
      },
      "source": [
        "#check for matrix a1\n",
        "P, L, u = diy_lu_pivoting(a1)\n",
        "b = get_a(P,L,u)\n",
        "print(b)\n",
        "print(b-a1)"
      ],
      "execution_count": 59,
      "outputs": [
        {
          "output_type": "stream",
          "text": [
            "[[3.         3.         3.         3.         3.         3.        ]\n",
            " [3.         3.         1.36363636 1.07142857 0.88235294 0.75      ]\n",
            " [3.         1.36363636 0.88235294 0.65217391 0.51724138 0.42857143]\n",
            " [3.         1.07142857 0.65217391 0.46875    0.36585366 0.3       ]\n",
            " [3.         0.88235294 0.51724138 0.36585366 0.28301887 0.23076923]\n",
            " [3.         0.75       0.42857143 0.3        0.23076923 0.1875    ]]\n",
            "[[ 0.00000000e+00  0.00000000e+00  0.00000000e+00  0.00000000e+00\n",
            "   0.00000000e+00  0.00000000e+00]\n",
            " [ 0.00000000e+00  0.00000000e+00  0.00000000e+00  0.00000000e+00\n",
            "   0.00000000e+00  0.00000000e+00]\n",
            " [ 0.00000000e+00  0.00000000e+00  0.00000000e+00  2.22044605e-16\n",
            "  -1.11022302e-16 -1.66533454e-16]\n",
            " [ 0.00000000e+00  0.00000000e+00  2.22044605e-16 -5.55111512e-17\n",
            "  -1.66533454e-16 -1.66533454e-16]\n",
            " [ 0.00000000e+00  0.00000000e+00 -1.11022302e-16 -1.66533454e-16\n",
            "   1.66533454e-16  5.55111512e-17]\n",
            " [ 0.00000000e+00  0.00000000e+00 -1.66533454e-16 -1.66533454e-16\n",
            "   5.55111512e-17  0.00000000e+00]]\n"
          ],
          "name": "stdout"
        }
      ]
    }
  ]
}