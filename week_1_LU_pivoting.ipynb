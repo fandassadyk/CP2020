{
  "nbformat": 4,
  "nbformat_minor": 0,
  "metadata": {
    "kernelspec": {
      "display_name": "Python 3",
      "language": "python",
      "name": "python3"
    },
    "language_info": {
      "codemirror_mode": {
        "name": "ipython",
        "version": 3
      },
      "file_extension": ".py",
      "mimetype": "text/x-python",
      "name": "python",
      "nbconvert_exporter": "python",
      "pygments_lexer": "ipython3",
      "version": "3.5.2"
    },
    "colab": {
      "name": "week_1_LU_pivoting.ipynb",
      "provenance": []
    }
  },
  "cells": [
    {
      "cell_type": "markdown",
      "metadata": {
        "id": "qgCAL32gI7sR",
        "colab_type": "text"
      },
      "source": [
        "# I. $LU$ factorization of a square matrix"
      ]
    },
    {
      "cell_type": "markdown",
      "metadata": {
        "id": "lrCyC0WdI7sh",
        "colab_type": "text"
      },
      "source": [
        "Consider a simple naive implementation of the LU decomposition. \n",
        "\n",
        "Note that we're using the `numpy` arrays to represent matrices [do **not** use `np.matrix`]."
      ]
    },
    {
      "cell_type": "code",
      "metadata": {
        "id": "u568YmxrI7sr",
        "colab_type": "code",
        "colab": {}
      },
      "source": [
        "import numpy as np\n",
        "\n",
        "def diy_lu(a):\n",
        "    \"\"\"Construct the LU decomposition of the input matrix.\n",
        "    \n",
        "    Naive LU decomposition: work column by column, accumulate elementary triangular matrices.\n",
        "    No pivoting.\n",
        "    \"\"\"\n",
        "    N = a.shape[0]\n",
        "    \n",
        "    u = a.copy()\n",
        "    L = np.eye(N)\n",
        "    for j in range(N-1):\n",
        "        lam = np.eye(N)\n",
        "        gamma = u[j+1:, j] / u[j, j]\n",
        "        lam[j+1:, j] = -gamma\n",
        "        u = lam @ u\n",
        "\n",
        "        lam[j+1:, j] = gamma\n",
        "        L = L @ lam\n",
        "    return L, u"
      ],
      "execution_count": 0,
      "outputs": []
    },
    {
      "cell_type": "code",
      "metadata": {
        "id": "wYIjNeF4I7tF",
        "colab_type": "code",
        "outputId": "d24ffa42-aa8a-410e-b661-c24e8d459e45",
        "colab": {
          "base_uri": "https://localhost:8080/",
          "height": 35
        }
      },
      "source": [
        "# Now, generate a full rank matrix and test the naive implementation\n",
        "\n",
        "import numpy as np\n",
        "\n",
        "N = 6\n",
        "a = np.zeros((N, N), dtype=float)\n",
        "for i in range(N):\n",
        "    for j in range(N):\n",
        "        a[i, j] = 3. / (0.6*i*j + 1)\n",
        "\n",
        "np.linalg.matrix_rank(a)"
      ],
      "execution_count": 0,
      "outputs": [
        {
          "output_type": "execute_result",
          "data": {
            "text/plain": [
              "6"
            ]
          },
          "metadata": {
            "tags": []
          },
          "execution_count": 2
        }
      ]
    },
    {
      "cell_type": "code",
      "metadata": {
        "id": "sgooKjRuI7tb",
        "colab_type": "code",
        "colab": {}
      },
      "source": [
        "# Tweak the printing of floating-point numbers, for clarity\n",
        "np.set_printoptions(precision=3)"
      ],
      "execution_count": 0,
      "outputs": []
    },
    {
      "cell_type": "code",
      "metadata": {
        "id": "BN8xXF1mI7ty",
        "colab_type": "code",
        "outputId": "39ded472-b745-42ee-90c7-9c8ce17d0323",
        "colab": {}
      },
      "source": [
        "L, u = diy_lu(a)\n",
        "\n",
        "print(L, \"\\n\")\n",
        "print(u, \"\\n\")\n",
        "\n",
        "# Quick sanity check: L times U must equal the original matrix, up to floating-point errors.\n",
        "print(L@u - a)"
      ],
      "execution_count": 0,
      "outputs": [
        {
          "output_type": "stream",
          "text": [
            "[[ 1.     0.     0.     0.     0.     0.   ]\n",
            " [ 1.     1.     0.     0.     0.     0.   ]\n",
            " [ 1.     1.455  1.     0.     0.     0.   ]\n",
            " [ 1.     1.714  1.742  1.     0.     0.   ]\n",
            " [ 1.     1.882  2.276  2.039  1.     0.   ]\n",
            " [ 1.     2.     2.671  2.944  2.354  1.   ]] \n",
            "\n",
            "[[  3.000e+00   3.000e+00   3.000e+00   3.000e+00   3.000e+00   3.000e+00]\n",
            " [  0.000e+00  -1.125e+00  -1.636e+00  -1.929e+00  -2.118e+00  -2.250e+00]\n",
            " [  0.000e+00   0.000e+00   2.625e-01   4.574e-01   5.975e-01   7.013e-01]\n",
            " [  0.000e+00   2.220e-16   0.000e+00  -2.197e-02  -4.480e-02  -6.469e-02]\n",
            " [  0.000e+00  -4.528e-16   0.000e+00   6.939e-18   8.080e-04   1.902e-03]\n",
            " [  0.000e+00   4.123e-16   0.000e+00  -1.634e-17   0.000e+00  -1.585e-05]] \n",
            "\n",
            "[[  0.000e+00   0.000e+00   0.000e+00   0.000e+00   0.000e+00   0.000e+00]\n",
            " [  0.000e+00   0.000e+00   0.000e+00   0.000e+00   0.000e+00   0.000e+00]\n",
            " [  0.000e+00   0.000e+00   0.000e+00   2.220e-16  -1.110e-16  -1.665e-16]\n",
            " [  0.000e+00   0.000e+00   2.220e-16  -5.551e-17  -1.665e-16  -1.665e-16]\n",
            " [  0.000e+00   0.000e+00  -1.110e-16  -1.665e-16   1.665e-16   5.551e-17]\n",
            " [  0.000e+00   0.000e+00  -1.665e-16  -1.665e-16   5.551e-17   0.000e+00]]\n"
          ],
          "name": "stdout"
        }
      ]
    },
    {
      "cell_type": "markdown",
      "metadata": {
        "id": "AsYwq5omI7uJ",
        "colab_type": "text"
      },
      "source": [
        "# II. The need for pivoting"
      ]
    },
    {
      "cell_type": "markdown",
      "metadata": {
        "id": "en_fcHsHI7uT",
        "colab_type": "text"
      },
      "source": [
        "Let's tweak the matrix a little bit, we only change a single element:"
      ]
    },
    {
      "cell_type": "code",
      "metadata": {
        "id": "dFS2SLgAI7ub",
        "colab_type": "code",
        "colab": {}
      },
      "source": [
        "a1 = a.copy()\n",
        "a1[1, 1] = 3"
      ],
      "execution_count": 0,
      "outputs": []
    },
    {
      "cell_type": "markdown",
      "metadata": {
        "id": "4Yo5Eq6zI7vK",
        "colab_type": "text"
      },
      "source": [
        "Resulting matix still has full rank, but the naive LU routine breaks down."
      ]
    },
    {
      "cell_type": "code",
      "metadata": {
        "id": "YgOkOIsBI7vb",
        "colab_type": "code",
        "outputId": "e96f791e-7442-4f76-91f2-d4293f686055",
        "colab": {}
      },
      "source": [
        "np.linalg.matrix_rank(a1)"
      ],
      "execution_count": 0,
      "outputs": [
        {
          "output_type": "execute_result",
          "data": {
            "text/plain": [
              "6"
            ]
          },
          "metadata": {
            "tags": []
          },
          "execution_count": 7
        }
      ]
    },
    {
      "cell_type": "code",
      "metadata": {
        "id": "j3WMmHPiI7vw",
        "colab_type": "code",
        "outputId": "8a7b0ca6-de23-4fb8-a4eb-4735dee48692",
        "colab": {}
      },
      "source": [
        "l, u = diy_lu(a1)\n",
        "\n",
        "print(l, u)"
      ],
      "execution_count": 0,
      "outputs": [
        {
          "output_type": "stream",
          "text": [
            "[[ nan  nan  nan  nan  nan  nan]\n",
            " [ nan  nan  nan  nan  nan  nan]\n",
            " [ nan  nan  nan  nan  nan  nan]\n",
            " [ nan  nan  nan  nan  nan  nan]\n",
            " [ nan  nan  nan  nan  nan  nan]\n",
            " [ nan  nan  nan  nan  nan  nan]] [[ nan  nan  nan  nan  nan  nan]\n",
            " [ nan  nan  nan  nan  nan  nan]\n",
            " [ nan  nan  nan  nan  nan  nan]\n",
            " [ nan  nan  nan  nan  nan  nan]\n",
            " [ nan  nan  nan  nan  nan  nan]\n",
            " [ nan  nan  nan  nan  nan  nan]]\n"
          ],
          "name": "stdout"
        }
      ]
    },
    {
      "cell_type": "markdown",
      "metadata": {
        "id": "oMSTzqZJI7v7",
        "colab_type": "text"
      },
      "source": [
        "### Test II.1\n",
        "\n",
        "For a naive LU decomposition to work, all leading minors of a matrix should be non-zero. Check if this requirement is satisfied for the two matrices `a` and `a1`.\n",
        "\n",
        "(20% of the grade)"
      ]
    },
    {
      "cell_type": "code",
      "metadata": {
        "id": "QnvnrQ08I7wE",
        "colab_type": "code",
        "colab": {}
      },
      "source": [
        "def check_minors(a):\n",
        "  m = 0\n",
        "  for N in range(a.shape[0] + 1):\n",
        "    n = np.zeros((N, N), dtype=float)\n",
        "    for k in range(N):\n",
        "      for l in range(N):\n",
        "        n[k,l]=a[k,l]\n",
        "    if np.linalg.det(n) == 0:\n",
        "      m += 1\n",
        "      return False\n",
        "  if m == 0:\n",
        "    return True"
      ],
      "execution_count": 0,
      "outputs": []
    },
    {
      "cell_type": "code",
      "metadata": {
        "id": "dS6N0EkNR0Up",
        "colab_type": "code",
        "outputId": "a394357b-c2bb-49b4-91c9-989f9728552c",
        "colab": {
          "base_uri": "https://localhost:8080/",
          "height": 35
        }
      },
      "source": [
        "check_minors(a)"
      ],
      "execution_count": 0,
      "outputs": [
        {
          "output_type": "execute_result",
          "data": {
            "text/plain": [
              "True"
            ]
          },
          "metadata": {
            "tags": []
          },
          "execution_count": 12
        }
      ]
    },
    {
      "cell_type": "code",
      "metadata": {
        "id": "aeoECi6GSh7c",
        "colab_type": "code",
        "outputId": "499f17cb-d206-4ebc-d749-188cd875ffe7",
        "colab": {
          "base_uri": "https://localhost:8080/",
          "height": 35
        }
      },
      "source": [
        "check_minors(a1)"
      ],
      "execution_count": 0,
      "outputs": [
        {
          "output_type": "execute_result",
          "data": {
            "text/plain": [
              "False"
            ]
          },
          "metadata": {
            "tags": []
          },
          "execution_count": 15
        }
      ]
    },
    {
      "cell_type": "markdown",
      "metadata": {
        "id": "GbKkkkkdI7wR",
        "colab_type": "text"
      },
      "source": [
        "### Test II.2\n",
        "\n",
        "Modify the `diy_lu` routine to implement column pivoting. Keep track of pivots, you can either construct a permutation matrix, or a swap array (your choice).\n",
        "\n",
        "(40% of the grade)\n",
        "\n",
        "Implement a function to reconstruct the original matrix from a decompositon. Test your routines on the matrices `a` and `a1`.\n",
        "\n",
        "(40% of the grade)"
      ]
    },
    {
      "cell_type": "markdown",
      "metadata": {
        "id": "V7aSCQnldMbF",
        "colab_type": "text"
      },
      "source": [
        "Implement a function to reconstruct the original matrix from a decompositon. Test your routines on the matrices a and a1."
      ]
    }
  ]
}