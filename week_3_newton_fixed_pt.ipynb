{
  "nbformat": 4,
  "nbformat_minor": 0,
  "metadata": {
    "kernelspec": {
      "display_name": "Python 3",
      "language": "python",
      "name": "python3"
    },
    "language_info": {
      "codemirror_mode": {
        "name": "ipython",
        "version": 3
      },
      "file_extension": ".py",
      "mimetype": "text/x-python",
      "name": "python",
      "nbconvert_exporter": "python",
      "pygments_lexer": "ipython3",
      "version": "3.5.2"
    },
    "colab": {
      "name": "week_3_newton_fixed_pt.ipynb",
      "provenance": []
    }
  },
  "cells": [
    {
      "cell_type": "markdown",
      "metadata": {
        "id": "vFWoMjy1R6r9",
        "colab_type": "text"
      },
      "source": [
        "# Part I. Root-finding. Newton's iteration."
      ]
    },
    {
      "cell_type": "markdown",
      "metadata": {
        "id": "e1aeSvRtR6sL",
        "colab_type": "text"
      },
      "source": [
        "Write a function which performs Newton's iteration for a given function $f(x)$ with known derivative $f'(x)$. Your function should find the root of $f(x)$ with a predefined absolute accuracy $\\epsilon$. "
      ]
    },
    {
      "cell_type": "code",
      "metadata": {
        "id": "GHEFpYnyYdC2",
        "colab_type": "code",
        "colab": {}
      },
      "source": [
        "import numpy as np\n",
        "import matplotlib.pyplot as plt\n",
        "import math, cmath"
      ],
      "execution_count": 0,
      "outputs": []
    },
    {
      "cell_type": "code",
      "metadata": {
        "id": "PFixd0sWR6sS",
        "colab_type": "code",
        "colab": {}
      },
      "source": [
        "def newton_iteration(f, fder, x0, eps=1e-5, maxiter=1000):\n",
        "    \"\"\"Find a root of $f(x) = 0$ via Newton's iteration starting from x0.\n",
        "    \n",
        "    Parameters\n",
        "    ----------\n",
        "    f : callable\n",
        "        The function to find a root of.\n",
        "    fder : callable\n",
        "        The derivative of `f`.\n",
        "    x0 : float\n",
        "        Initial value for the Newton's iteration.\n",
        "    eps : float\n",
        "        The target accuracy. \n",
        "        The iteration stops when the distance between successive iterates is below `eps`.\n",
        "        Default is 1e-5.\n",
        "    maxiter : int\n",
        "        The maximum number of iterations (default is 1000.)\n",
        "        Iterations terminate if the number of iterations exceeds `maxiter`.\n",
        "        This parameter is only needed to avoid infinite loops if iterations wander off.\n",
        "        \n",
        "    Returns\n",
        "    -------\n",
        "    x : float\n",
        "        The estimate for the root.\n",
        "    niter : int\n",
        "        The number of iterations.\n",
        "    \"\"\"\n",
        "    # ... ENTER YOUR CODE HERE ...\n",
        "\n",
        "    xn = x0\n",
        "    for i in range(0,maxiter):\n",
        "        fxn = f(xn)\n",
        "        Dfxn = fder(xn)\n",
        "        if abs(fxn) < eps:\n",
        "            return xn, i\n",
        "        if Dfxn == 0: # no solution\n",
        "            return None\n",
        "        xn -= fxn/Dfxn\n",
        "    "
      ],
      "execution_count": 0,
      "outputs": []
    },
    {
      "cell_type": "markdown",
      "metadata": {
        "id": "F_SLaClnR6so",
        "colab_type": "text"
      },
      "source": [
        "### Test I.1 \n",
        "\n",
        "Test your implementation on a simple example, $f(x) = x^2 - 1$ or similar. (20% of the total grade)"
      ]
    },
    {
      "cell_type": "code",
      "metadata": {
        "id": "aiih2TN1R6su",
        "colab_type": "code",
        "colab": {
          "base_uri": "https://localhost:8080/",
          "height": 124
        },
        "outputId": "7294a51d-8cc7-445b-c1a9-c7aa5a2b88ef"
      },
      "source": [
        "# ... ENTER YOUR CODE HERE ...\n",
        "def f(x):\n",
        "    return (x**2 - 1)\n",
        "\n",
        "def fder(x):\n",
        "    return 2*x\n",
        "\n",
        "test_set = [5,-10, 10, 11.5, 20, 100]\n",
        "for test in test_set:\n",
        "  result = newton_iteration(f, fder, test, eps=1e-5, maxiter=1000)\n",
        "  print('Initial value: ', test, '| Root: ', result[0], '| Iteration number: ', result[1])"
      ],
      "execution_count": 29,
      "outputs": [
        {
          "output_type": "stream",
          "text": [
            "Initial value:  5 | Root:  1.00000463565079 | Iteration number:  5\n",
            "Initial value:  -10 | Root:  -1.0000000000139897 | Iteration number:  7\n",
            "Initial value:  10 | Root:  1.0000000000139897 | Iteration number:  7\n",
            "Initial value:  11.5 | Root:  1.0000000004062362 | Iteration number:  7\n",
            "Initial value:  20 | Root:  1.0000000000149214 | Iteration number:  8\n",
            "Initial value:  100 | Root:  1.0000000025490745 | Iteration number:  10\n"
          ],
          "name": "stdout"
        }
      ]
    },
    {
      "cell_type": "markdown",
      "metadata": {
        "id": "ImP06F5nR6tD",
        "colab_type": "text"
      },
      "source": [
        "### Test I.2\n",
        "\n",
        "Now consider a function which has a multiple root. Take $f(x) = (x^2 - 1)^2$ as an example. Implement a modified Newton's iteraion,\n",
        "\n",
        "$$\n",
        "x_{n+1} = x_{n} - m \\frac{f(x_n)}{f'(x_n)}\n",
        "$$\n",
        "\n",
        "and vary $m= 1, 2, 3, 4, 5$. Check the number of iterations required for convergence within a fixed $\\epsilon$. Are your observations consistent with the expectation that the convergence is quadratic is $m$ equals the multiplicity of the root, and is linear otherwise? (40% of the total grade)"
      ]
    },
    {
      "cell_type": "code",
      "metadata": {
        "id": "gVSxb4xLR6tJ",
        "colab_type": "code",
        "colab": {}
      },
      "source": [
        "# ... ENTER YOUR CODE HERE ...\n",
        "\n",
        "def modified_newton_iteration(f, fder, m, x0, eps=1e-5, maxiter=1000):\n",
        "    xp = x0\n",
        "    xn = xp - m * f(xp) / fder(xp)\n",
        "    i = 1\n",
        "    \n",
        "    while True:\n",
        "        if abs(xn - xp) > eps and i <= maxiter:\n",
        "            xp = xn\n",
        "            xn = xp - m * f(xp) / fder(xp)\n",
        "            i+=1\n",
        "        else:\n",
        "            break\n",
        "    return xn, i"
      ],
      "execution_count": 0,
      "outputs": []
    },
    {
      "cell_type": "code",
      "metadata": {
        "id": "YUXILPKegqz-",
        "colab_type": "code",
        "colab": {
          "base_uri": "https://localhost:8080/",
          "height": 372
        },
        "outputId": "8a32a8e9-8fb3-45ce-ae81-7a6e025e97f7"
      },
      "source": [
        "def f0(x):\n",
        "    return (x**2-1)**2\n",
        "def fder0(x):\n",
        "    return 4*x*(x**2-1)\n",
        "\n",
        "test_set = [3,-10, 10, 11.5]\n",
        "m = [1, 2, 3, 4]\n",
        "for m_i in m:\n",
        "    print('m =', m_i)\n",
        "    for test in test_set:\n",
        "      result = modified_newton_iteration(f, fder, m_i, test, eps=1e-5, maxiter=1000)\n",
        "      print('Initial value: ', test, '| Root: ', result[0], '| Iteration number: ', result[1])\n",
        "\n"
      ],
      "execution_count": 83,
      "outputs": [
        {
          "output_type": "stream",
          "text": [
            "m = 1\n",
            "Initial value:  3 | Root:  1.0 | Iteration number:  6\n",
            "Initial value:  -10 | Root:  -1.0000000000139897 | Iteration number:  7\n",
            "Initial value:  10 | Root:  1.0000000000139897 | Iteration number:  7\n",
            "Initial value:  11.5 | Root:  1.0 | Iteration number:  8\n",
            "m = 2\n",
            "Initial value:  3 | Root:  0.33333333333333304 | Iteration number:  1001\n",
            "Initial value:  -10 | Root:  -0.09999999999999964 | Iteration number:  1001\n",
            "Initial value:  10 | Root:  0.09999999999999964 | Iteration number:  1001\n",
            "Initial value:  11.5 | Root:  0.08695652173913082 | Iteration number:  1001\n",
            "m = 3\n",
            "Initial value:  3 | Root:  -1.0 | Iteration number:  2\n",
            "Initial value:  -10 | Root:  -2.2847557697425156 | Iteration number:  1001\n",
            "Initial value:  10 | Root:  2.2847557697425156 | Iteration number:  1001\n",
            "Initial value:  11.5 | Root:  -14.710234622420222 | Iteration number:  1001\n",
            "m = 4\n",
            "Initial value:  3 | Root:  14.991030486564437 | Iteration number:  1001\n",
            "Initial value:  -10 | Root:  -3869.8486693356267 | Iteration number:  1001\n",
            "Initial value:  10 | Root:  3869.8486693356267 | Iteration number:  1001\n",
            "Initial value:  11.5 | Root:  -444.04019921906587 | Iteration number:  1001\n"
          ],
          "name": "stdout"
        }
      ]
    },
    {
      "cell_type": "markdown",
      "metadata": {
        "id": "q6KrxvDMR6tZ",
        "colab_type": "text"
      },
      "source": [
        "# Part II. Fixed-point iteration"
      ]
    },
    {
      "cell_type": "markdown",
      "metadata": {
        "id": "6DKbZYNsR6tg",
        "colab_type": "text"
      },
      "source": [
        "Consider the following equation:\n",
        "\n",
        "$$\n",
        "\\sqrt{x} = \\cos{x}\n",
        "$$\n",
        "\n",
        "Plot the left-hand side and right-hand side of this equation, and localize the root graphically. Estimate the location of the root by visual inspection of the plot.\n",
        "\n",
        "Write a function which finds the solution using fixed-point iteration up to a predefined accuracy $\\epsilon$. Compare the result to an estimate from a visual inspection.\n",
        "\n",
        "Next, rewrite the fixed-point problem in the form\n",
        "\n",
        "$$\n",
        "x = x - \\alpha f(x)\n",
        "$$\n",
        "\n",
        "where $\\alpha$ is the free parameter. Check the dependence of the number of iterations required for a given $\\epsilon$ on $\\alpha$. Compare your results to an expectation that the optimal value of $\\alpha$ is given by \n",
        "\n",
        "$$\n",
        "\\alpha = \\frac{2}{m + M}\n",
        "$$\n",
        "\n",
        "where $0 < m < |f'(x)| < M$ over the localization interval. (40% of the total grade)"
      ]
    },
    {
      "cell_type": "markdown",
      "metadata": {
        "id": "SJo4l3bcs5Ob",
        "colab_type": "text"
      },
      "source": [
        "Посмотрим на график, чтобы понять, какое приближение нам нужно брать"
      ]
    },
    {
      "cell_type": "code",
      "metadata": {
        "id": "SKKZP1_aR6tl",
        "colab_type": "code",
        "colab": {
          "base_uri": "https://localhost:8080/",
          "height": 299
        },
        "outputId": "956c7cc7-29c3-4446-9921-62d201dac0b3"
      },
      "source": [
        "# ... ENTER YOUR CODE HERE ...\n",
        "\n",
        "x = np.linspace(0.1, 1, 1000)\n",
        "plt.plot(x, np.sqrt(x), label='sqrt(x)')\n",
        "plt.plot(x, np.cos(x), label='cos(x)')\n",
        "plt.title('Solution of equation')\n",
        "plt.grid()\n",
        "plt.legend()"
      ],
      "execution_count": 84,
      "outputs": [
        {
          "output_type": "execute_result",
          "data": {
            "text/plain": [
              "<matplotlib.legend.Legend at 0x7f123cb0cb38>"
            ]
          },
          "metadata": {
            "tags": []
          },
          "execution_count": 84
        },
        {
          "output_type": "display_data",
          "data": {
            "image/png": "[encoded data removed]",
            "text/plain": [
              "<Figure size 432x288 with 1 Axes>"
            ]
          },
          "metadata": {
            "tags": []
          }
        }
      ]
    },
    {
      "cell_type": "code",
      "metadata": {
        "id": "X3UnIeBEtcPw",
        "colab_type": "code",
        "colab": {}
      },
      "source": [
        "def fixed_point_iteration(f, x0, alpha, eps=1e-5, maxiter=1000): #аналогично\n",
        "    xp = x0\n",
        "    xn = xp - alpha * f(xp)\n",
        "    i = 1\n",
        "    while True:\n",
        "        if abs(xn - xp) > eps and i <= maxiter:\n",
        "          xp = xn\n",
        "          xn = xp - alpha * f(xp)\n",
        "          i+=1\n",
        "        else:\n",
        "          break\n",
        "    return xn, i"
      ],
      "execution_count": 0,
      "outputs": []
    },
    {
      "cell_type": "code",
      "metadata": {
        "id": "4ZX5UQuyt5cA",
        "colab_type": "code",
        "colab": {
          "base_uri": "https://localhost:8080/",
          "height": 295
        },
        "outputId": "872484d9-53f2-4716-e3d8-8e95b3c0ec7f"
      },
      "source": [
        "def f1(x):\n",
        "    return (np.sqrt(x) - np.cos(x))\n",
        "\n",
        "def fder1(x):\n",
        "    return (0.5/np.sqrt(x) + np.sin(x))\n",
        "\n",
        "  \n",
        "\n",
        "x = np.linspace(0.1,1,100)\n",
        "iterations = [fixed_point_iteration(f1, 0.6, x[i])[1] for i in range(100)] \n",
        "derivatives = [fder1(x[i]) for i in range(100)] \n",
        "m = min(derivatives) \n",
        "M = max(derivatives)\n",
        "\n",
        "plt.title('Iterations number (alpha)')\n",
        "plt.xlabel('alpha')\n",
        "plt.ylabel('Iterations number')\n",
        "plt.plot(x,iterations)\n",
        "plt.plot(2 / (m + M),fixed_point_iteration(f1, 0.6, 2/(m+M))[1] , 'rs')\n",
        "plt.grid()\n"
      ],
      "execution_count": 85,
      "outputs": [
        {
          "output_type": "display_data",
          "data": {
            "image/png": "[encoded data removed]",
            "text/plain": [
              "<Figure size 432x288 with 1 Axes>"
            ]
          },
          "metadata": {
            "tags": []
          }
        }
      ]
    },
    {
      "cell_type": "markdown",
      "metadata": {
        "id": "0iSmG-Vb0VSv",
        "colab_type": "text"
      },
      "source": [
        "Кол-во итераций, при котором метод быстрее всего сходится, равно 3.\n",
        "Из графика слудет, что кол-во итераций при alpha = 2/(m+M) близко к минимальному кол-ву итераций. Значит все ок.\n",
        "\n",
        "\n"
      ]
    },
    {
      "cell_type": "markdown",
      "metadata": {
        "id": "9c-z0tUDR6t5",
        "colab_type": "text"
      },
      "source": [
        "# Part III. Newton's fractal.\n",
        "\n",
        "(Not graded). \n",
        "\n",
        "Consider the equation\n",
        "\n",
        "$$\n",
        "x^3 = 1\n",
        "$$\n",
        "\n",
        "It has three solutions in the complex plane, $x_k = \\exp(i\\, 2\\pi k/ 3)$, $k = 0, 1, 2$.\n",
        "\n",
        "The Newton's iterations converge to one of these solutions, depending on the starting point in the complex plane (to converge to a complex-valued solution, the iteration needs a complex-valued starting point).\n",
        "\n",
        "Plot the \\emph{basins of attraction} of these roots on the complex plane of $x$ (i.e., on the plane $\\mathrm{Re}x$ -- $\\mathrm{Im}x$). To this end, make a series of calculations, varying the initial conditions on a grid of points. \n",
        "Color the grid in three colors, according to the root, to which iterations converged."
      ]
    },
    {
      "cell_type": "code",
      "metadata": {
        "id": "qvoBQoEiR6t_",
        "colab_type": "code",
        "colab": {}
      },
      "source": [
        "#roots\n",
        "z = [np.cos(2*k*np.pi/3) +1j*np.sin(2*k*np.pi/3) for k in (0, 1, 2)]\n",
        "\n",
        "def f2(x):\n",
        "    return (x**3 - 1)\n",
        "\n",
        "def fder2(x): \n",
        "    return 3*x**2\n",
        "\n",
        "def newton_fractal(n):\n",
        "    x, y = np.linspace(-10,10, n), np.linspace(-10,10, n)\n",
        "    for i in range(len(x)): \n",
        "        for k in range(len(y)):\n",
        "            root = newton_iteration(f2, fder2, x[i]+1j*y[k], eps=1e-5, maxiter=100)[0]\n",
        "            if np.abs(root-z[0])<1e-2: \n",
        "                plt.plot(x[i],y[k],'o',color = 'y')\n",
        "            if np.abs(root-z[1])<1e-2:\n",
        "                plt.plot(x[i],y[k],'o',color = 'g')\n",
        "            if np.abs(root-z[2])<1e-2:\n",
        "                plt.plot(x[i],y[k],'o',color = 'b')\n",
        "    plt.title(\"Newton's fractal\")\n",
        "    plt.xlabel('Re(z)')\n",
        "    plt.ylabel('Im(z)')\n"
      ],
      "execution_count": 0,
      "outputs": []
    },
    {
      "cell_type": "code",
      "metadata": {
        "id": "u-9WTt2_6xAS",
        "colab_type": "code",
        "colab": {
          "base_uri": "https://localhost:8080/",
          "height": 295
        },
        "outputId": "685d8881-e130-4e66-c58e-ee5c5b331d3e"
      },
      "source": [
        "newton_fractal(100)"
      ],
      "execution_count": 72,
      "outputs": [
        {
          "output_type": "display_data",
          "data": {
            "image/png": "[encoded data removed]",
            "text/plain": [
              "<Figure size 432x288 with 1 Axes>"
            ]
          },
          "metadata": {
            "tags": []
          }
        }
      ]
    }
  ]
}