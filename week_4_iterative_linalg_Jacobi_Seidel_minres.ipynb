{
  "nbformat": 4,
  "nbformat_minor": 0,
  "metadata": {
    "kernelspec": {
      "display_name": "Python 3",
      "language": "python",
      "name": "python3"
    },
    "language_info": {
      "codemirror_mode": {
        "name": "ipython",
        "version": 3
      },
      "file_extension": ".py",
      "mimetype": "text/x-python",
      "name": "python",
      "nbconvert_exporter": "python",
      "pygments_lexer": "ipython3",
      "version": "3.5.2"
    },
    "colab": {
      "name": "week_4_iterative_linalg_Jacobi_Seidel_minres.ipynb",
      "provenance": []
    }
  },
  "cells": [
    {
      "cell_type": "markdown",
      "metadata": {
        "id": "vC5t9njN5HQY",
        "colab_type": "text"
      },
      "source": [
        "# Simple iteration for systems of linear equations"
      ]
    },
    {
      "cell_type": "markdown",
      "metadata": {
        "id": "bfaslejm5HQc",
        "colab_type": "text"
      },
      "source": [
        "First, generate a random diagonally dominant matrix, for testing."
      ]
    },
    {
      "cell_type": "code",
      "metadata": {
        "id": "FsWUEFsJ5HQe",
        "colab_type": "code",
        "colab": {}
      },
      "source": [
        "import numpy as np\n",
        "rndm = np.random.RandomState(1234)\n",
        "\n",
        "n = 5\n",
        "A = rndm.uniform(size=(n, n)) + np.diagflat([15]*n)\n",
        "\n",
        "b = rndm.uniform(size=n)"
      ],
      "execution_count": 0,
      "outputs": []
    },
    {
      "cell_type": "markdown",
      "metadata": {
        "id": "yHyEyjl-5HQv",
        "colab_type": "text"
      },
      "source": [
        "# I.  Jacobi iteration\n",
        "\n",
        "Given\n",
        "\n",
        "$$\n",
        "A x = b\n",
        "$$\n",
        "\n",
        "separate the diagonal part $D$,\n",
        "\n",
        "$$ A = D + (A - D) $$\n",
        "\n",
        "and write\n",
        "\n",
        "$$\n",
        "x = D^{-1} (D - A) x + D^{-1} b\\;.\n",
        "$$\n",
        "\n",
        "Then iterate\n",
        "\n",
        "$$\n",
        "x_{n + 1} = B x_{n} + c\\;,\n",
        "$$\n",
        "\n",
        "where \n",
        "\n",
        "$$\n",
        "B = D^{-1} (A - D) \\qquad \\text{and} \\qquad c = D^{-1} b\n",
        "$$\n"
      ]
    },
    {
      "cell_type": "markdown",
      "metadata": {
        "id": "K4mr2r8M5HQy",
        "colab_type": "text"
      },
      "source": [
        "Let's construct the matrix and the r.h.s. for the Jacobi iteration"
      ]
    },
    {
      "cell_type": "code",
      "metadata": {
        "id": "f4gI5ekA5HQ0",
        "colab_type": "code",
        "colab": {}
      },
      "source": [
        "diag_1d = np.diag(A)\n",
        "\n",
        "B = -A.copy()\n",
        "np.fill_diagonal(B, 0)\n",
        "\n",
        "D = np.diag(diag_1d)\n",
        "invD = np.diag(1./diag_1d)\n",
        "BB = invD @ B \n",
        "c = invD @ b"
      ],
      "execution_count": 0,
      "outputs": []
    },
    {
      "cell_type": "code",
      "metadata": {
        "id": "tMknbwuB5HQ8",
        "colab_type": "code",
        "colab": {}
      },
      "source": [
        "# sanity checks\n",
        "from numpy.testing import assert_allclose\n",
        "\n",
        "assert_allclose(-B + D, A)\n",
        "\n",
        "\n",
        "# xx is a \"ground truth\" solution, compute it using a direct method\n",
        "xx = np.linalg.solve(A, b)\n",
        "\n",
        "np.testing.assert_allclose(A@xx, b)\n",
        "np.testing.assert_allclose(D@xx, B@xx + b)\n",
        "np.testing.assert_allclose(xx, BB@xx + c)"
      ],
      "execution_count": 0,
      "outputs": []
    },
    {
      "cell_type": "markdown",
      "metadata": {
        "id": "i5p_iE1u5HRG",
        "colab_type": "text"
      },
      "source": [
        "Check that $\\| B\\| \\leqslant 1$:"
      ]
    },
    {
      "cell_type": "code",
      "metadata": {
        "id": "cQNl4qTZ5HRI",
        "colab_type": "code",
        "outputId": "dcb02c82-7b1c-446f-8ad6-d4870ff700ba",
        "colab": {
          "base_uri": "https://localhost:8080/",
          "height": 35
        }
      },
      "source": [
        "np.linalg.norm(BB)"
      ],
      "execution_count": 49,
      "outputs": [
        {
          "output_type": "execute_result",
          "data": {
            "text/plain": [
              "0.17396672093190155"
            ]
          },
          "metadata": {
            "tags": []
          },
          "execution_count": 49
        }
      ]
    },
    {
      "cell_type": "markdown",
      "metadata": {
        "id": "7w1QEttN5HRV",
        "colab_type": "text"
      },
      "source": [
        "### Do the Jacobi iteration"
      ]
    },
    {
      "cell_type": "code",
      "metadata": {
        "id": "Gt2FN26O5HRW",
        "colab_type": "code",
        "colab": {}
      },
      "source": [
        "n_iter = 50\n",
        "\n",
        "x0 = np.ones(n)\n",
        "x = x0\n",
        "for _ in range(n_iter):\n",
        "    x = BB @ x + c"
      ],
      "execution_count": 0,
      "outputs": []
    },
    {
      "cell_type": "code",
      "metadata": {
        "id": "pFz2xDIs5HRf",
        "colab_type": "code",
        "outputId": "b2bb6b21-72c9-4759-f8f8-241ffa77c448",
        "colab": {
          "base_uri": "https://localhost:8080/",
          "height": 52
        }
      },
      "source": [
        "# Check the result:\n",
        "\n",
        "A @ x - b"
      ],
      "execution_count": 51,
      "outputs": [
        {
          "output_type": "execute_result",
          "data": {
            "text/plain": [
              "array([ 0.00000000e+00,  5.55111512e-17,  1.11022302e-16, -5.55111512e-17,\n",
              "        0.00000000e+00])"
            ]
          },
          "metadata": {
            "tags": []
          },
          "execution_count": 51
        }
      ]
    },
    {
      "cell_type": "markdown",
      "metadata": {
        "id": "wPX48A6-5HRt",
        "colab_type": "text"
      },
      "source": [
        "### Task I.1\n",
        "\n",
        "Collect the proof-of-concept above into a single function implementing the Jacobi iteration. This function should receive the r.h.s. matrix $A$, the l.h.s. vector `b`, and the number of iterations to perform.\n",
        "\n",
        "\n",
        "The matrix $A$ in the illustration above is strongly diagonally dominant, by construction. \n",
        "What happens if the diagonal matrix elements of $A$ are made smaller? Check the convergence of the Jacobi iteration, and check the value of the norm of $B$.\n",
        "\n",
        "(20% of the total grade)\n"
      ]
    },
    {
      "cell_type": "code",
      "metadata": {
        "id": "DC6u4FuW5HRv",
        "colab_type": "code",
        "colab": {}
      },
      "source": [
        "def Jacobi_iteration(A, b, n_iter):\n",
        "    diag_1d = np.diag(A)\n",
        "    B = -A.copy()\n",
        "    np.fill_diagonal(B, 0)\n",
        "    D = np.diag(diag_1d)\n",
        "    invD = np.diag(1./diag_1d)\n",
        "    BB = invD @ B\n",
        "    c = invD @ b\n",
        "    x0 = np.ones(n)\n",
        "    x = x0\n",
        "    # print(np.linalg.norm(BB))\n",
        "    for _ in range(n_iter):\n",
        "        x = BB @ x + c\n",
        "    return A @ x - b, 'norm of B:', np.linalg.norm(BB)"
      ],
      "execution_count": 0,
      "outputs": []
    },
    {
      "cell_type": "code",
      "metadata": {
        "id": "UX07VG90-Sqk",
        "colab_type": "code",
        "outputId": "d18a24ce-1a6a-40bf-eee4-a41dacaa5f6e",
        "colab": {
          "base_uri": "https://localhost:8080/",
          "height": 52
        }
      },
      "source": [
        "print(Jacobi_iteration(A, b, 100))\n"
      ],
      "execution_count": 57,
      "outputs": [
        {
          "output_type": "stream",
          "text": [
            "(array([8.50178396e+132, 8.92686042e+132, 6.74843804e+132, 6.68788988e+132,\n",
            "       5.45972494e+132]), 'norm of B:', 26.89103137837967)\n"
          ],
          "name": "stdout"
        }
      ]
    },
    {
      "cell_type": "code",
      "metadata": {
        "id": "R-tcNvpDCX9q",
        "colab_type": "code",
        "colab": {
          "base_uri": "https://localhost:8080/",
          "height": 52
        },
        "outputId": "7a0ab190-84ef-49dc-8472-7d45356bfd3d"
      },
      "source": [
        "np.fill_diagonal(A, 1e-1)\n",
        "print(Jacobi_iteration(A, b, 100))\n",
        "\n",
        "#если заменить диагональные элементы соизмеримыми, норма матрицы уже будет больше 1 => расходистя\n"
      ],
      "execution_count": 58,
      "outputs": [
        {
          "output_type": "stream",
          "text": [
            "(array([8.50178396e+132, 8.92686042e+132, 6.74843804e+132, 6.68788988e+132,\n",
            "       5.45972494e+132]), 'norm of B:', 26.89103137837967)\n"
          ],
          "name": "stdout"
        }
      ]
    },
    {
      "cell_type": "markdown",
      "metadata": {
        "id": "fJVRmqfP5HR7",
        "colab_type": "text"
      },
      "source": [
        "# II. Seidel's iteration."
      ]
    },
    {
      "cell_type": "markdown",
      "metadata": {
        "id": "8ue8UjmR5HR9",
        "colab_type": "text"
      },
      "source": [
        "##### Task II.1\n",
        "\n",
        "Implement the Seidel's iteration. \n",
        "\n",
        "Test it on a random matrix. Study the convergence of iterations, relate to the norm of the iteration matrix.\n",
        "\n",
        "(30% of the total grade)"
      ]
    },
    {
      "cell_type": "code",
      "metadata": {
        "id": "mjvmQt-S5HR-",
        "colab_type": "code",
        "colab": {}
      },
      "source": [
        "from math import sqrt\n",
        "import numpy as np\n",
        "\n",
        "def Seidel_iteration(A, b, n_iter):\n",
        "    x = np.zeros(len(A))\n",
        "    for i in range(n_iter):                \n",
        "        for j in range(len(A)):    \n",
        "            x[j] = (b[j] - A[j] @ x + A[j][j] * x[j]) / A[j][j]  # формула для итерации Зейделя\n",
        "    return x"
      ],
      "execution_count": 0,
      "outputs": []
    },
    {
      "cell_type": "code",
      "metadata": {
        "id": "xI1ESR22Dl41",
        "colab_type": "code",
        "colab": {
          "base_uri": "https://localhost:8080/",
          "height": 265
        },
        "outputId": "bccc48b4-a871-4e12-9660-9d14b7198245"
      },
      "source": [
        "import matplotlib.pyplot as plt\n",
        "# построим график зависимости нормы ошибки от числа итераций\n",
        "plt.figure()\n",
        "x = [i for i in range(1,5)]\n",
        "plt.plot(x, [np.linalg.norm(A @ Seidel_iteration(A, b, i) - b) for i in x]) \n",
        "plt.show()\n"
      ],
      "execution_count": 75,
      "outputs": [
        {
          "output_type": "display_data",
          "data": {
            "image/png": "[encoded data removed]",
            "text/plain": [
              "<Figure size 432x288 with 1 Axes>"
            ]
          },
          "metadata": {
            "tags": []
          }
        }
      ]
    },
    {
      "cell_type": "markdown",
      "metadata": {
        "id": "5jeoUUsM5HSG",
        "colab_type": "text"
      },
      "source": [
        "# III. Minimum residual scheme"
      ]
    },
    {
      "cell_type": "markdown",
      "metadata": {
        "id": "iLjdAsim5HSI",
        "colab_type": "text"
      },
      "source": [
        "### Task III.1\n",
        "\n",
        "Implement the $\\textit{minimum residual}$ scheme: an explicit non-stationary method, where at each step you select the iteration parameter $\\tau_n$ to minimize the residual $\\mathbf{r}_{n+1}$ given $\\mathbf{r}_n$. Test it on a random matrix, study the convergence to the solution, in terms of the norm of the residual and the deviation from the ground truth solution (which you can obtain using a direct method). Study how the iteration parameter $\\tau_n$ changes as iterations progress.\n",
        "\n",
        "(50% of the grade)"
      ]
    },
    {
      "cell_type": "code",
      "metadata": {
        "id": "fTCZCYqx5HSJ",
        "colab_type": "code",
        "colab": {}
      },
      "source": [
        "# ... ENTER YOUR CODE HERE ..."
      ],
      "execution_count": 0,
      "outputs": []
    }
  ]
}