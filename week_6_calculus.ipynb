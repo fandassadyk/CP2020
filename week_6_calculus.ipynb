{
  "nbformat": 4,
  "nbformat_minor": 0,
  "metadata": {
    "kernelspec": {
      "display_name": "Python 3",
      "language": "python",
      "name": "python3"
    },
    "language_info": {
      "codemirror_mode": {
        "name": "ipython",
        "version": 3
      },
      "file_extension": ".py",
      "mimetype": "text/x-python",
      "name": "python",
      "nbconvert_exporter": "python",
      "pygments_lexer": "ipython3",
      "version": "3.5.2"
    },
    "colab": {
      "name": "week_6_calculus.ipynb",
      "provenance": []
    }
  },
  "cells": [
    {
      "cell_type": "markdown",
      "metadata": {
        "id": "NWcRmRKiqagS",
        "colab_type": "text"
      },
      "source": [
        "# Part I. One-sided finite differences"
      ]
    },
    {
      "cell_type": "markdown",
      "metadata": {
        "id": "CwilKnUBqagT",
        "colab_type": "text"
      },
      "source": [
        "Write a function, `deriv`, which computes a derivative of its argument at a given point, $x$, using a one-sided finite difference rule with a given step side $h$, with the approximation order of $O(h^2)$. "
      ]
    },
    {
      "cell_type": "code",
      "metadata": {
        "id": "lyHlvSxSqagU",
        "colab_type": "code",
        "colab": {}
      },
      "source": [
        "def deriv(f, x, h):\n",
        "    \"\"\" Compute a derivative of `f` at point `x` with step size `h`.\n",
        "    \n",
        "    Compute the derivative using the one-sided rule of the approximation order of $O(h^2)$.\n",
        "    \n",
        "    Parameters\n",
        "    ----------\n",
        "    f : callable\n",
        "        The function to differentiate\n",
        "    x : float\n",
        "        The point to compute the derivative at.\n",
        "    h : float\n",
        "        The step size for the finite different rule.\n",
        "        \n",
        "    Returns\n",
        "    -------\n",
        "    fder : derivative of f(x) at point x using the step size h.\n",
        "    \"\"\"\n",
        "    return (-1.5*f(x)-0.5*f(x+2*h)+2*f(x+h)) / h"
      ],
      "execution_count": 0,
      "outputs": []
    },
    {
      "cell_type": "markdown",
      "metadata": {
        "id": "KmRY0NSXqagY",
        "colab_type": "text"
      },
      "source": [
        "#### Test I.1\n",
        "\n",
        "Test your function on a simple test case: differentiate $f(x) = x^3$ at $x=0$. Comment on whether your results are consistent with the expected value of $f'(x) = 0$ and on an expected scaling with $h\\to 0$.\n",
        "\n",
        " (10% of the total grade)"
      ]
    },
    {
      "cell_type": "code",
      "metadata": {
        "id": "KxaP5l8OqagZ",
        "colab_type": "code",
        "colab": {
          "base_uri": "https://localhost:8080/",
          "height": 88
        },
        "outputId": "90449be7-d9ae-4f1b-8e6c-13795ab5fe39"
      },
      "source": [
        "x = 0\n",
        "for h in [1e-2, 1e-3, 1e-4, 1e-5]:\n",
        "    err = deriv(lambda x: x**3, x, h)\n",
        "    print(\"%5f -- %7.4g\" % (h, err))"
      ],
      "execution_count": 4,
      "outputs": [
        {
          "output_type": "stream",
          "text": [
            "0.010000 -- -0.0002\n",
            "0.001000 --  -2e-06\n",
            "0.000100 --  -2e-08\n",
            "0.000010 --  -2e-10\n"
          ],
          "name": "stdout"
        }
      ]
    },
    {
      "cell_type": "markdown",
      "metadata": {
        "id": "M3UuPuIuqagc",
        "colab_type": "text"
      },
      "source": [
        "Видно, что с уменьшением шага на 1 порядок, ошибка уменьшается на 2 порядка (квадратичная точность).\n",
        "\n"
      ]
    },
    {
      "cell_type": "markdown",
      "metadata": {
        "id": "jj4inKYiqagd",
        "colab_type": "text"
      },
      "source": [
        "### Test I.2\n",
        "\n",
        "Now use a slightly more complicated function, $f(x) = x^2 \\log{x}$, evaluate the derivative at $x=1$ using your one-sided rule and a two-point one-sided rule. Roughly estimate the value of $h$ where the error stops decreasing, for these two schemes. \n",
        "(15% of the total grade)"
      ]
    },
    {
      "cell_type": "code",
      "metadata": {
        "id": "gT6C3pSYqagd",
        "colab_type": "code",
        "colab": {}
      },
      "source": [
        "from math import log\n",
        "\n",
        "def f(x):\n",
        "    return x**2 * log(x)\n",
        "    \n",
        "def fder(x):\n",
        "    return x * (2.*log(x) + 1)"
      ],
      "execution_count": 0,
      "outputs": []
    },
    {
      "cell_type": "code",
      "metadata": {
        "id": "1A0gIMM7DfB9",
        "colab_type": "code",
        "colab": {}
      },
      "source": [
        "def deriv_2(f,x,h):\n",
        "    return (f(x+h)-f(x)) / h"
      ],
      "execution_count": 0,
      "outputs": []
    },
    {
      "cell_type": "code",
      "metadata": {
        "id": "6zlY8FFGqagg",
        "colab_type": "code",
        "colab": {
          "base_uri": "https://localhost:8080/",
          "height": 283
        },
        "outputId": "dfad5e46-ce7e-4ebe-df3d-c12c996e70ba"
      },
      "source": [
        "import numpy as np\n",
        "from matplotlib import pyplot as plt\n",
        "\n",
        "h = [1e-2, 1e-3, 1e-4, 1e-5, 1e-6, 1e-7, 1e-8, 1e-9, 1e-10, 1e-11, 1e-12, 1e-13, 1e-14, 1e-15]\n",
        "x = 1\n",
        "\n",
        "err1 = []\n",
        "err2 = []\n",
        "for i in h:\n",
        "    err1.append(abs(fder(x) - deriv(f, x, i)))\n",
        "    err2.append(abs(fder(x) - deriv_2(f, x, i)))\n",
        "\n",
        "plt.plot(h, err1, 'o-', label='O(h)')\n",
        "plt.plot(h, err2, 'o-', label='O(h^2)')\n",
        "\n",
        "plt.xscale('log')\n",
        "plt.yscale('log')\n",
        "plt.xlabel('h')\n",
        "plt.ylabel('error')\n",
        "plt.grid()\n",
        "plt.legend()\n",
        "plt.show()"
      ],
      "execution_count": 15,
      "outputs": [
        {
          "output_type": "display_data",
          "data": {
            "image/png": "[encoded data removed]",
            "text/plain": [
              "<Figure size 432x288 with 1 Axes>"
            ]
          },
          "metadata": {
            "tags": [],
            "needs_background": "light"
          }
        }
      ]
    },
    {
      "cell_type": "markdown",
      "metadata": {
        "id": "lrpAlj6Zqagj",
        "colab_type": "text"
      },
      "source": [
        "### Test I.3 \n",
        "\n",
        "Now try differentiating $x^2 \\log(x)$ at $x=0$. Use the three-point one-sided rule. Note that to evaluate the function at zero, you need to special-case this value. Check the scaling of the error with $h$, explain your results. \n",
        "(25% of the total grade)"
      ]
    },
    {
      "cell_type": "code",
      "metadata": {
        "id": "84pA7Qkiqagk",
        "colab_type": "code",
        "colab": {
          "base_uri": "https://localhost:8080/",
          "height": 88
        },
        "outputId": "62cfef3c-ea2b-456d-ec89-dd9b566a0869"
      },
      "source": [
        "def f(x):\n",
        "    if x == 0:\n",
        "        # the limit of $x^2 log(x)$ at $x-> 0$ is zero, even though log(x) is undefined at x=0\n",
        "        return 0.0\n",
        "    else:\n",
        "        return x**2 * log(x)\n",
        "    \n",
        "def fder(x):\n",
        "    if x == 0:\n",
        "        return 0.0\n",
        "    else:\n",
        "        return x*(2*log(x) + 1)\n",
        "\n",
        "x = 0\n",
        "for h in [1e-2, 1e-3, 1e-4, 1e-5]:\n",
        "    err = deriv(f, x, h) - fder(x)\n",
        "    print(\"%5f -- %7.4g\" % (h, err))"
      ],
      "execution_count": 16,
      "outputs": [
        {
          "output_type": "stream",
          "text": [
            "0.010000 -- -0.01386\n",
            "0.001000 -- -0.001386\n",
            "0.000100 -- -0.0001386\n",
            "0.000010 -- -1.386e-05\n"
          ],
          "name": "stdout"
        }
      ]
    },
    {
      "cell_type": "markdown",
      "metadata": {
        "id": "IR6x0B5Dqagn",
        "colab_type": "text"
      },
      "source": [
        "3-я производная пропорциональна 1/x, поэтому она дает нам остаточный член. "
      ]
    },
    {
      "cell_type": "markdown",
      "metadata": {
        "id": "cnDVUQV4qago",
        "colab_type": "text"
      },
      "source": [
        "# Part II. Midpoint rule "
      ]
    },
    {
      "cell_type": "markdown",
      "metadata": {
        "id": "XHzSKm4Pqagp",
        "colab_type": "text"
      },
      "source": [
        "Write a function which computes a definite integral using the midpoint rule up to a given error, $\\epsilon$. Estimate the error by comparing the estimates of the integral at $N$ and $2N$ elementary intervals. "
      ]
    },
    {
      "cell_type": "code",
      "metadata": {
        "id": "MdAKvZ35qagp",
        "colab_type": "code",
        "colab": {}
      },
      "source": [
        "def midpoint_rule(func, a, b, eps):\n",
        "    \"\"\" Calculate the integral of f from a to b using the midpoint rule.\n",
        "    \n",
        "    Parameters\n",
        "    ----------\n",
        "    func : callable\n",
        "        The function to integrate.\n",
        "    a : float\n",
        "        The lower limit of integration.\n",
        "    b : float\n",
        "        The upper limit of integration.\n",
        "    eps : float\n",
        "        The target accuracy of the estimate.\n",
        "        \n",
        "    Returns\n",
        "    -------\n",
        "    integral : float\n",
        "        The estimate of $\\int_a^b f(x) dx$.\n",
        "    \"\"\"\n",
        "    \n",
        "    answer = np.inf\n",
        "    I = (b - a) * func((b - a) / 2)\n",
        "    n = 1\n",
        "    while abs(I - answer) > eps:\n",
        "        answer = I\n",
        "        n = n * 2\n",
        "        d = (b - a) / n\n",
        "        x = np.linspace(a + d * 0.5, b - d * 0.5, n)\n",
        "        \n",
        "        I = sum([func(i) * d for i in x])\n",
        "    return I, n"
      ],
      "execution_count": 0,
      "outputs": []
    },
    {
      "cell_type": "markdown",
      "metadata": {
        "id": "U_yjKMEkqags",
        "colab_type": "text"
      },
      "source": [
        "### Test II.1\n",
        "\n",
        "Test your midpoint rule on a simple integral, which you can calculate by paper and pencil.\n",
        "\n",
        "Compare the rate of convergence to the expected $O(N^{-2})$ scaling by studying the number of intervals required for a given accuracy $\\epsilon$.\n",
        "\n",
        "Compare the numerical results to the value you calculated by hand. Does the deviation agree with your estimate of the numerical error?\n",
        "(20% of the total grade)\n"
      ]
    },
    {
      "cell_type": "markdown",
      "metadata": {
        "id": "VePA6tQ9qagt",
        "colab_type": "text"
      },
      "source": [
        "... ENTER YOUR CODE AND COMMENTS HERE ..."
      ]
    },
    {
      "cell_type": "markdown",
      "metadata": {
        "id": "sfEKH6pUqagt",
        "colab_type": "text"
      },
      "source": [
        "### Test II.2\n",
        "\n",
        "Now use your midpoint rule to compute the value of\n",
        "\n",
        "$$\n",
        "\\int_0^1\\! \\frac{\\sin{\\sqrt{x}}}{x}\\, dx\n",
        "$$\n",
        "\n",
        "up to a predefined accuracy of $\\epsilon=10^{-4}$.\n",
        "\n",
        "Note that the integral contains an integrable singularity at the lower limit. Do calculations two ways: first, do a straightforward computation; next, subtract the singularity. Compare the number of iterations required to achieve the accuracy of $\\epsilon$.\n",
        "\n",
        "(30% of the total grade)"
      ]
    },
    {
      "cell_type": "code",
      "metadata": {
        "id": "dQLqatWJqagx",
        "colab_type": "code",
        "colab": {
          "base_uri": "https://localhost:8080/",
          "height": 70
        },
        "outputId": "c657918c-575a-412b-9208-8831bd195787"
      },
      "source": [
        "print(\"Исходный интеграл:\", midpoint_rule(lambda x: np.sin(np.sqrt(x))/x, 0, 1, 1e-4)[0], \"Число итераций:\", midpoint_rule(lambda x: np.sin(np.sqrt(x))/x, 0, 1, 1e-4)[1])\n",
        "print(\"Посчитано программой:\", midpoint_rule(lambda x: np.sin(np.sqrt(x))/x -np.sqrt(1/x), 0, 1, 1e-4)[0]+midpoint_rule(lambda x:  np.sqrt(1/x), 0, 1, 1e-4)[0], \n",
        "      \"Число итераций:\", midpoint_rule(lambda x: np.sin(np.sqrt(x))/x -np.sqrt(1/x), 0, 1, 1e-4)[1]+midpoint_rule(lambda x:  np.sqrt(1/x), 0, 1, 1e-4)[1])\n",
        "print(\"Посчитано вручную:\", midpoint_rule(lambda x: np.sin(np.sqrt(x))/x -np.sqrt(1/x), 0, 1, 1e-4)[0] + 2, \"Число итераций:\", midpoint_rule(lambda x: np.sin(np.sqrt(x))/x -np.sqrt(1/x), 0, 1, 1e-4)[1])"
      ],
      "execution_count": 34,
      "outputs": [
        {
          "output_type": "stream",
          "text": [
            "Исходный интеграл: 1.891957289204461 Число итераций: 8388608\n",
            "Посчитано программой: 1.8919041541098511 Число итераций: 8388640\n",
            "Посчитано вручную: 1.892113005639548 Число итераций: 32\n"
          ],
          "name": "stdout"
        }
      ]
    }
  ]
}