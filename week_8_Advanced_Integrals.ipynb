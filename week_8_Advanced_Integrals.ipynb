{
  "nbformat": 4,
  "nbformat_minor": 0,
  "metadata": {
    "kernelspec": {
      "display_name": "Python 3",
      "language": "python",
      "name": "python3"
    },
    "language_info": {
      "codemirror_mode": {
        "name": "ipython",
        "version": 3
      },
      "file_extension": ".py",
      "mimetype": "text/x-python",
      "name": "python",
      "nbconvert_exporter": "python",
      "pygments_lexer": "ipython3",
      "version": "3.7.7"
    },
    "colab": {
      "name": "week_8_Advanced_Integrals.ipynb",
      "provenance": []
    }
  },
  "cells": [
    {
      "cell_type": "markdown",
      "metadata": {
        "id": "EubEr5MFhkh2",
        "colab_type": "text"
      },
      "source": [
        "## Part 1. Gaussian quadrature\n",
        "\n",
        "The Gaussian quadrature method is one of the methods of numerical integration that allows you to increase the accuracy of integration, by using orthogonal polynomials and their roots as nodes.\n",
        "\n",
        "$$\n",
        "\\int_a^b \\!  w(x)\\, f(x)\\, dx \\approx \\sum_{k=1}^n w_k \\, f(x_k) \\;,\n",
        "$$\n",
        "\n",
        "here $\\omega$ is the weight function, this weight function determines the basis of orthogonal polynomials whose roots are used as integration nodes. If the function $f(x)$ is a polynomial, then such an integration method gives *exact* value for the integral."
      ]
    },
    {
      "cell_type": "markdown",
      "metadata": {
        "id": "joJW7oJvhkh3",
        "colab_type": "text"
      },
      "source": [
        "For example, let's calculate the following integral:\n",
        "$$\n",
        "\\int_{-1}^1 (7x^3 - 8 x^2 - 3 x + 3) dx  \\label{eq1}\\tag{1}\n",
        "$$\n",
        "\n",
        "Here function is already polynomial, so we put the weight function $\\omega(x) = 1$. Then the calculation of the integral reduces to the sum in the polynomials roots witch corresponding to the weight function $\\omega(x) = 1$. For example, here https://dlmf.nist.gov/18.3 you may see which basis of polynomials corresponds to your weight function.\n",
        "\n",
        "You may see, that Legendre polynomials correspond to our weight function. Now go to the documentation https://docs.scipy.org/doc/scipy/reference/special.html#orthogonal-polynomials. Here, the function *roots_legendre* immediately gives you the roots of the Legendre polynomial and weight at this roots (for Legendre polynomials all these weight are ones).\n"
      ]
    },
    {
      "cell_type": "code",
      "metadata": {
        "id": "of0s5B78iRii",
        "colab_type": "code",
        "colab": {}
      },
      "source": [
        "import numpy as np\n",
        "import scipy\n",
        "from scipy import special\n",
        "from scipy.special import roots_legendre\n",
        "from scipy.special import roots_chebyt"
      ],
      "execution_count": 0,
      "outputs": []
    },
    {
      "cell_type": "markdown",
      "metadata": {
        "id": "DhL8W2xkhkh4",
        "colab_type": "text"
      },
      "source": [
        "### Task 1.1\n",
        "(20% of the grade)"
      ]
    },
    {
      "cell_type": "markdown",
      "metadata": {
        "id": "bnuoEuTBhkh5",
        "colab_type": "text"
      },
      "source": [
        "1. Calculate the exact value of the integral ([1](#mjx-eqn-eq1)) using a pen and paper (or in your mind). Remember it, then you will compare numerical results with it."
      ]
    },
    {
      "cell_type": "code",
      "metadata": {
        "id": "rwq_t-Lohkh5",
        "colab_type": "code",
        "colab": {
          "base_uri": "https://localhost:8080/",
          "height": 35
        },
        "outputId": "00db7c5a-da02-41cc-fcae-927c5b650848"
      },
      "source": [
        "print(2/3)"
      ],
      "execution_count": 3,
      "outputs": [
        {
          "output_type": "stream",
          "text": [
            "0.6666666666666666\n"
          ],
          "name": "stdout"
        }
      ]
    },
    {
      "cell_type": "markdown",
      "metadata": {
        "id": "sUowig11hkh8",
        "colab_type": "text"
      },
      "source": [
        "2. Calculate the value of the integral ([1](#mjx-eqn-eq1)) using the usual method of numerical integration on a uniform grid (for example, implemented by you in week_6_calculus homework). Estimate the number of nodes needed to achieve relative accuracy $10^{-10}$."
      ]
    },
    {
      "cell_type": "code",
      "metadata": {
        "id": "opaNy-a-hkh9",
        "colab_type": "code",
        "colab": {}
      },
      "source": [
        "def midpoint_rule(func, a, b, eps):\n",
        "    answer = np.inf\n",
        "    integral = (b - a) * func((b - a) / 2)\n",
        "    n = 1\n",
        "    while abs(integral - answer) > eps:\n",
        "        answer = integral\n",
        "        n *= 2\n",
        "        d = (b - a) / n\n",
        "        x = np.linspace(a + 0.5*d, b - 0.5*d, n)\n",
        "        \n",
        "        integral = sum([func(i) * d for i in x])\n",
        "    return integral, n"
      ],
      "execution_count": 0,
      "outputs": []
    },
    {
      "cell_type": "code",
      "metadata": {
        "id": "SfqOuFo4jP4Y",
        "colab_type": "code",
        "colab": {
          "base_uri": "https://localhost:8080/",
          "height": 35
        },
        "outputId": "48d1096a-0dd0-41dd-d6ea-90ac199dbdec"
      },
      "source": [
        "func = lambda x: 7*x**3 - 8*x**2 - 3*x + 3\n",
        "integral, n = midpoint_rule(func, -1, 1, 1e-10)\n",
        "print(integral, n+1) "
      ],
      "execution_count": 12,
      "outputs": [
        {
          "output_type": "stream",
          "text": [
            "0.6666666666860301 524289\n"
          ],
          "name": "stdout"
        }
      ]
    },
    {
      "cell_type": "markdown",
      "metadata": {
        "id": "jJePOdlmhkh_",
        "colab_type": "text"
      },
      "source": [
        "3. Calculate the integral ([1](#mjx-eqn-eq1)) using the roots of the Legendre polynomial from 1 to 6 degrees as nodes (to get roots and weigths use scipy.special.roots_legendre)"
      ]
    },
    {
      "cell_type": "code",
      "metadata": {
        "id": "mv7ZY6MDhkh_",
        "colab_type": "code",
        "colab": {}
      },
      "source": [
        "def legendre_nodes_method(coef, n):\n",
        "    x_n, w_n = special.roots_legendre(n) #n - степень полинома Лежандра\n",
        "    return np.sum(w_n * np.polyval(coef, x_n))\n"
      ],
      "execution_count": 0,
      "outputs": []
    },
    {
      "cell_type": "code",
      "metadata": {
        "id": "0a5JWhDemwhn",
        "colab_type": "code",
        "colab": {
          "base_uri": "https://localhost:8080/",
          "height": 230
        },
        "outputId": "07fe5f17-587f-45f8-c655-2fb6ce6a0ed0"
      },
      "source": [
        "coef=[7, -8, -3, 3]\n",
        "\n",
        "for n in range(1,7):\n",
        "    print('for n = ', n)\n",
        "    print('integral = ', legendre_nodes_method(coef, n))"
      ],
      "execution_count": 24,
      "outputs": [
        {
          "output_type": "stream",
          "text": [
            "for n =  1\n",
            "integral =  6.0\n",
            "for n =  2\n",
            "integral =  0.6666666666666665\n",
            "for n =  3\n",
            "integral =  0.6666666666666634\n",
            "for n =  4\n",
            "integral =  0.6666666666666667\n",
            "for n =  5\n",
            "integral =  0.6666666666666683\n",
            "for n =  6\n",
            "integral =  0.6666666666666696\n"
          ],
          "name": "stdout"
        }
      ]
    },
    {
      "cell_type": "markdown",
      "metadata": {
        "id": "D_9yApb2hkiC",
        "colab_type": "text"
      },
      "source": [
        "Compare the number of nodes needed to obtain the same accuracy in both numerical methods."
      ]
    },
    {
      "cell_type": "markdown",
      "metadata": {
        "id": "ewEQZEKXndLp",
        "colab_type": "text"
      },
      "source": [
        "Видно, что в данном случае в методе с использованием корней полинома Лежандра уже начиная со второго узла достаточно высокая точность, хотя в первом случае понадобилось больше 500 тысяч"
      ]
    },
    {
      "cell_type": "markdown",
      "metadata": {
        "id": "bNMSm8fWhkiF",
        "colab_type": "text"
      },
      "source": [
        "### Task 1.2\n",
        "(20% of the grade)\n",
        "\n",
        "Calculate the value of the same integral, but on the interval from 0 to 10.\n",
        "$$\n",
        "\\int_{0}^{10} (7x^3 - 8 x^2 - 3 x + 3) dx \n",
        "$$\n",
        "\n",
        "Please note that you can no longer directly use Legendre polynomials, because they are defined for the interval (-1,1). But you can always make an *affine transformation* (a transformation that does not change the area) in order to go to the desired coordinate system."
      ]
    },
    {
      "cell_type": "markdown",
      "metadata": {
        "id": "VyOCroOeoYvC",
        "colab_type": "text"
      },
      "source": [
        "Сделаем замену y=10x, тогда интеграл примет вид: \n",
        "$$\n",
        "\\int_{0}^{1} (7000 y^3 - 800 y^2 - 30 y + 3) dy \n",
        "$$"
      ]
    },
    {
      "cell_type": "code",
      "metadata": {
        "id": "DRlu9uQwqLyk",
        "colab_type": "code",
        "colab": {}
      },
      "source": [
        "def legendre_nodes_sh_method(coef, n):\n",
        "    x_n, w_n = special.roots_sh_legendre(n)\n",
        "    return np.sum(w_n * np.polyval(coef, x_n))"
      ],
      "execution_count": 0,
      "outputs": []
    },
    {
      "cell_type": "code",
      "metadata": {
        "id": "6UsNxwFFoYO3",
        "colab_type": "code",
        "colab": {
          "base_uri": "https://localhost:8080/",
          "height": 230
        },
        "outputId": "8ab3881b-b22f-48d4-854c-26f0345d7133"
      },
      "source": [
        "coef_1=[70000,-8000,-300,30]\n",
        "\n",
        "for n in range(1,7):\n",
        "    print('for n = ', n)\n",
        "    print('integral = ', legendre_nodes_sh_method(coef_1, n))"
      ],
      "execution_count": 32,
      "outputs": [
        {
          "output_type": "stream",
          "text": [
            "for n =  1\n",
            "integral =  6630.0\n",
            "for n =  2\n",
            "integral =  14713.333333333334\n",
            "for n =  3\n",
            "integral =  14713.333333333336\n",
            "for n =  4\n",
            "integral =  14713.33333333333\n",
            "for n =  5\n",
            "integral =  14713.333333333332\n",
            "for n =  6\n",
            "integral =  14713.333333333332\n"
          ],
          "name": "stdout"
        }
      ]
    },
    {
      "cell_type": "markdown",
      "metadata": {
        "id": "3RL-YIfsrMKS",
        "colab_type": "text"
      },
      "source": [
        "Для 2 узла отличие между 14713.(3) и 14713.333333333334 порядка 10^(-12) -- высокая точность\n"
      ]
    },
    {
      "cell_type": "markdown",
      "metadata": {
        "id": "ivSURrs6hkiJ",
        "colab_type": "text"
      },
      "source": [
        "### Task 1.3\n",
        "(20% of the grade)\n",
        "\n",
        "Calculate the value of the following integral:\n",
        "$$\n",
        "\\int_{0}^{2\\pi} \\frac{cos(x) dx }{\\sqrt{4\\pi^2 - x^2}}\n",
        "$$\n",
        "by using the corresponding basis of orthogonal polynomials. \n",
        "Find the degree of the polynomial (number of nodes) at which the accuracy of the integral starts to exceed the double floating point accuracy."
      ]
    },
    {
      "cell_type": "markdown",
      "metadata": {
        "id": "Ip3ysWelslBi",
        "colab_type": "text"
      },
      "source": [
        "Сделаем замену $$y={2\\pi}x\n",
        "$$\n",
        "Тогда наш интеграл сведется к: $$\n",
        "\\int_{0}^{1} \\frac{cos(2\\pi y) dy }{\\sqrt{1 - y^2}}\n",
        " = \\int_{-1}^{1} \\frac{cos(2\\pi y) dy }{2\\sqrt{1 - y^2}}\n",
        "$$"
      ]
    },
    {
      "cell_type": "code",
      "metadata": {
        "id": "tt1ZvfAhhkiK",
        "colab_type": "code",
        "colab": {}
      },
      "source": [
        "def cheb_integral(n):\n",
        "    x_n, w_n = special.roots_chebyt(n)\n",
        "    return np.sum(w_n * np.cos(2*np.pi*x_n) / 2)"
      ],
      "execution_count": 0,
      "outputs": []
    },
    {
      "cell_type": "code",
      "metadata": {
        "id": "kbRJtr3Su1N9",
        "colab_type": "code",
        "colab": {
          "base_uri": "https://localhost:8080/",
          "height": 35
        },
        "outputId": "cfe02aa0-cd69-46fb-bafb-33c9d2fe852a"
      },
      "source": [
        "answer = np.inf\n",
        "n = 1\n",
        "\n",
        "while 0 == 0:\n",
        "    \n",
        "    integral = cheb_integral(n)\n",
        "    if answer - integral == 0:\n",
        "        break\n",
        "    answer = integral\n",
        "    n +=1\n",
        "    \n",
        "print(integral, n-1)"
      ],
      "execution_count": 51,
      "outputs": [
        {
          "output_type": "stream",
          "text": [
            "0.34601015881226443 16\n"
          ],
          "name": "stdout"
        }
      ]
    },
    {
      "cell_type": "markdown",
      "metadata": {
        "id": "ylF58eKovbpD",
        "colab_type": "text"
      },
      "source": [
        "Получили оптимальную степень полинома и приближенное значение интеграла"
      ]
    },
    {
      "cell_type": "markdown",
      "metadata": {
        "id": "ve8Ir-iqhkiM",
        "colab_type": "text"
      },
      "source": [
        "## Part 2. Fredholm equation\n",
        "\n",
        "There are two types of Fredholm equations. \n",
        "\n",
        "1. Fredholm equation of the first kind:\n",
        "$$\n",
        "\\int_a^b \\! K(x, t)\\, \\color{blue}{f(t)} \\,dt = g(x)\n",
        "$$\n",
        "\n",
        "2. Fredholm equation of the second kind:\n",
        "$$\n",
        "\\lambda \\int_a^b\\! K(x, t)\\, \\color{blue}{f(t)} \\, dt + g(x) = \\color{blue}{f(x)}\n",
        "$$\n",
        "\n",
        "Here higtlighted function $f(x)$ is unknown, kernel function $K(x, t)$ and given function $g(x)$, $\\lambda$ is a real number. Numerically, Fredholm equations of the first kind are very ill-conditioned. We will consider equations of the second kind only."
      ]
    },
    {
      "cell_type": "markdown",
      "metadata": {
        "id": "-H_zgfdPhkiM",
        "colab_type": "text"
      },
      "source": [
        "The basic idea is to approximate the integral by some quadrature formula\n",
        "\n",
        "$$\n",
        "\\int_a^b \\! \\xi(t)\\, dt \\approx \\sum_j^N w_j\\, \\xi(t_j)\n",
        "$$\n",
        "\n",
        "with appropriate weights $w_j$ and nodes $t_j$ and $j=1, \\dots, N$. The accuracy of the approximation is controlled by $N$."
      ]
    },
    {
      "cell_type": "markdown",
      "metadata": {
        "id": "wW4ZxFbRhkiN",
        "colab_type": "text"
      },
      "source": [
        "This way, the FE is approximated by \n",
        "\n",
        "$$\n",
        "\\lambda \\sum_j w_j\\, K(x, t_j)\\, \\color{blue}{f(t_j)} + g(x) = \\color{blue}{f(x)}\n",
        "$$\n",
        "\n",
        "Note that here $x$ is a continuous variable, and we only discretized $t$.\n"
      ]
    },
    {
      "cell_type": "markdown",
      "metadata": {
        "id": "owP1EmGlhkiN",
        "colab_type": "text"
      },
      "source": [
        "Evaluating this equation on the grid $x = t_k$, we obtain\n",
        "\n",
        "$$\n",
        "\\lambda \\sum_j w_j \\, K_{k, j}\\, \\color{blue}{f_j} + g_k = \\color{blue}{f_k}\n",
        "$$\n",
        "\n",
        "where $f_j \\equiv f(t_j)$, $g_j \\equiv g(t_j)$ and $K_{k, j} \\equiv K(t_k, t_j)$. This is nothing but a system of linear algebraic equations for the vector of $\\color{blue}{f_j}$.\n",
        "\n",
        "Its solution gives the values of the unknown function $f(x)$ at the discrete values $x=t_j$ for $j=1, \\dots, N$."
      ]
    },
    {
      "cell_type": "markdown",
      "metadata": {
        "id": "zQLzBQtvhkiO",
        "colab_type": "text"
      },
      "source": [
        "### Task 2.1\n",
        "(20% of the grade)\n",
        "\n",
        "Solve an example Fredholm equation of the second kind\n",
        "\n",
        "$$\n",
        "f(x) = \\sin(\\pi x)  + \\frac{1}{2} \\int_0^1\\! f(t) \\, dt\n",
        "$$\n",
        "\n",
        "Here $a, b = 0, 1$, $\\lambda = \\dfrac{1}{2}$, the kernel is $K(x, t) = 1$ and the right-hand side $g(x) = \\sin(\\pi x)$.\n",
        "\n",
        "In fact, the exact solution is (В. А. Попов, Сборник задач по интегральным уравнениям, 2006, стр. 5)\n",
        "\n",
        "$$\n",
        "f(x) = \\sin(\\pi x) + \\frac{2}{\\pi}\n",
        "$$"
      ]
    },
    {
      "cell_type": "markdown",
      "metadata": {
        "id": "657q5pTahkiO",
        "colab_type": "text"
      },
      "source": [
        "For the integral, we can use a Gaussian quadrature with the weight function $w(x) = 1$ on $(0, 1)$. Looking at http://dlmf.nist.gov/18.3, and find the corresponding function in *scipy.special* (pay attention to the integration interval).\n",
        "\n",
        "Compare the obtained function values with the true solution for different values of $N$. What value of $N$ can you stop at?"
      ]
    },
    {
      "cell_type": "code",
      "metadata": {
        "id": "PlzLJh0ohkiO",
        "colab_type": "code",
        "colab": {}
      },
      "source": [
        "### Enter your code here"
      ],
      "execution_count": 0,
      "outputs": []
    },
    {
      "cell_type": "markdown",
      "metadata": {
        "id": "cwAj6Cj3hkiQ",
        "colab_type": "text"
      },
      "source": [
        "### Task 2.2\n",
        "(20% of the grade)\n",
        "\n",
        "An obvious issue with the privious result for $f(x)$ that it returns the solution on a fixed set of points. We do not control precise positions of these points.\n",
        "\n",
        "1. First, let's try to interpolate the values obtained in the previous task to a uniform grid of length 50. You may use any interpolation method. Compare the interpolation values with exact solution values."
      ]
    },
    {
      "cell_type": "code",
      "metadata": {
        "id": "QCbr7xZchkiR",
        "colab_type": "code",
        "colab": {}
      },
      "source": [
        "### Enter your code here"
      ],
      "execution_count": 0,
      "outputs": []
    },
    {
      "cell_type": "markdown",
      "metadata": {
        "id": "f2DjRQ2-hkiU",
        "colab_type": "text"
      },
      "source": [
        "2. Now use the following formula to calculate the function at points of the same uniform grid.\n",
        "$$\n",
        "f(x) = g(x) + \\lambda \\sum_j^N w_j\\, K(x, t_j)\\, f(t_j)\n",
        "$$\n",
        "Again, compare the interpolation values with the exact solution values, and also with the direct interpolation method."
      ]
    },
    {
      "cell_type": "code",
      "metadata": {
        "id": "PdHKb7zfhkiU",
        "colab_type": "code",
        "colab": {}
      },
      "source": [
        "### Enter your code here"
      ],
      "execution_count": 0,
      "outputs": []
    }
  ]
}