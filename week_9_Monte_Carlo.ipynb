{
  "nbformat": 4,
  "nbformat_minor": 0,
  "metadata": {
    "kernelspec": {
      "display_name": "Python 3",
      "language": "python",
      "name": "python3"
    },
    "language_info": {
      "codemirror_mode": {
        "name": "ipython",
        "version": 3
      },
      "file_extension": ".py",
      "mimetype": "text/x-python",
      "name": "python",
      "nbconvert_exporter": "python",
      "pygments_lexer": "ipython3",
      "version": "3.7.6"
    },
    "colab": {
      "name": "week_9_Monte-Carlo.ipynb",
      "provenance": []
    }
  },
  "cells": [
    {
      "cell_type": "markdown",
      "metadata": {
        "id": "Lfjrn4z06OEg",
        "colab_type": "text"
      },
      "source": [
        "# Метод Монте-Карло в физике"
      ]
    },
    {
      "cell_type": "markdown",
      "metadata": {
        "id": "7TSazhuV6OEl",
        "colab_type": "text"
      },
      "source": [
        "Методами Монте-Карло называют множество различных методов в совершенно разных областях от физики до экономики. Основная суть этих методов заключается в использовании случайных величин для получения различных состояний исследуемой системы. "
      ]
    },
    {
      "cell_type": "markdown",
      "metadata": {
        "id": "-Q0CBFwT6OE1",
        "colab_type": "text"
      },
      "source": [
        "Одно из частых применений метода Монте-Карло в физике состоит в расчете интегралов. При этом действительно полезным и незаменимым метод становится при работе с большим количеством измерений, когда построение обычных квадратур приводит к чересчур  огромным сеткам. Например, уже в случае 10 измерений, задание обычной равномерной решетки шириной в $2^4 = 16$ узлов, приводит к общей сетке размера $2^{40} \\simeq 10^{12}$. Массив данных float такого размера будет занимать 4ТБ в памяти компьютера. Оперировать такими интегралами стандартными методами становится принципиально невозможно."
      ]
    },
    {
      "cell_type": "code",
      "metadata": {
        "id": "uc-PNky-6OE4",
        "colab_type": "code",
        "colab": {}
      },
      "source": [
        "import numpy as np\n",
        "import matplotlib.pyplot as plt\n",
        "import scipy.special as sp\n",
        "plt.style.use('ggplot')\n",
        "%matplotlib notebook"
      ],
      "execution_count": 0,
      "outputs": []
    },
    {
      "cell_type": "markdown",
      "metadata": {
        "id": "eFB7DgZZ6OFn",
        "colab_type": "text"
      },
      "source": [
        "## Задание 1\n",
        "Вычислим объем многомерной сферы в большом количестве измерений."
      ]
    },
    {
      "cell_type": "markdown",
      "metadata": {
        "id": "I9siTC9o6OFv",
        "colab_type": "text"
      },
      "source": [
        "### Задание 1.1 \n",
        "Напишите функцию, вычисляющую точный объем $d$-мерной сферы с помощью явного выражения. \n",
        "Объем многомерной сферы радиуса $R$ в $d$-измерениях дается формулой: \n",
        "$$\n",
        "V_d = \\frac{\\pi^{d/2}} {\\Gamma(1 + d/2)}\n",
        "$$\n",
        "где $\\Gamma(x)$ - гамма функция, значение которой можно получить из scipy.special."
      ]
    },
    {
      "cell_type": "code",
      "metadata": {
        "id": "34D6eSgG6OFz",
        "colab_type": "code",
        "colab": {}
      },
      "source": [
        "def getSphereVolumeExact(D, R = 1.0):\n",
        "    \"\"\"\n",
        "    Функция вычисляет значение объема D-мерной сферы радиуса R по явной формуле\n",
        "\n",
        "    --------\n",
        "    Аргументы:\n",
        "    D - int, количество измерений \n",
        "    R = 1 - float, радиус сферы\n",
        "    --------\n",
        "    Функция возвращает:\n",
        "    V - float, объем сферы\n",
        "    \"\"\"\n",
        "    return np.pi**(D/2)/sp.gamma(1+D/2)*R**D\n"
      ],
      "execution_count": 0,
      "outputs": []
    },
    {
      "cell_type": "markdown",
      "metadata": {
        "id": "IP2orHRv6OGg",
        "colab_type": "text"
      },
      "source": [
        "1. Проверьте результат для нескольких известных вам значений. \n",
        "2. Построите график V(D)"
      ]
    },
    {
      "cell_type": "code",
      "metadata": {
        "id": "v6N0hEC26OGm",
        "colab_type": "code",
        "colab": {
          "base_uri": "https://localhost:8080/",
          "height": 70
        },
        "outputId": "690d42dd-bb28-42f5-f486-4f1ff15f0e15"
      },
      "source": [
        "print(getSphereVolumeExact(1)) \n",
        "print(getSphereVolumeExact(2)) \n",
        "print(getSphereVolumeExact(3)) "
      ],
      "execution_count": 4,
      "outputs": [
        {
          "output_type": "stream",
          "text": [
            "2.0\n",
            "3.141592653589793\n",
            "4.188790204786391\n"
          ],
          "name": "stdout"
        }
      ]
    },
    {
      "cell_type": "markdown",
      "metadata": {
        "id": "OCUV8ee1chHd",
        "colab_type": "text"
      },
      "source": [
        "Получили $$\n",
        "2R, {\\pi R ^{2}}, \\frac {4\\pi R^{3}} {3}\n",
        "$$"
      ]
    },
    {
      "cell_type": "code",
      "metadata": {
        "id": "Daql6fUydetb",
        "colab_type": "code",
        "colab": {
          "base_uri": "https://localhost:8080/",
          "height": 311
        },
        "outputId": "1f702952-c7d0-497c-b947-4b98fb0bca77"
      },
      "source": [
        "volume = [getSphereVolumeExact(d) for d in range(50)]\n",
        "\n",
        "plt.figure()\n",
        "plt.plot(np.arange(50), volume, 'o')\n",
        "plt.xlabel(\"dimention\")\n",
        "plt.ylabel(\"volume\")\n",
        "plt.suptitle('V(D)')\n",
        "plt.show()"
      ],
      "execution_count": 7,
      "outputs": [
        {
          "output_type": "display_data",
          "data": {
            "image/png": "[encoded data removed]",
            "text/plain": [
              "<Figure size 432x288 with 1 Axes>"
            ]
          },
          "metadata": {
            "tags": [],
            "needs_background": "light"
          }
        }
      ]
    },
    {
      "cell_type": "markdown",
      "metadata": {
        "id": "G74EaV2E6OG1",
        "colab_type": "text"
      },
      "source": [
        "### Задание 1.2\n",
        "Напишите функцию, вычисляющую объем сферы методом Монте-Карло на псевдослучайных числах (используя, например `numpy.random.rand`)."
      ]
    },
    {
      "cell_type": "code",
      "metadata": {
        "id": "9nxZ_HpK6OG5",
        "colab_type": "code",
        "colab": {}
      },
      "source": [
        "def getSphereVolumePseudorandom(N, D, R = 1):\n",
        "    \"\"\"\n",
        "    Функция вычисляет значение объема D-мерной сферы радиуса R методом Монте-Кало на псевдослучайных числах\n",
        "\n",
        "    --------\n",
        "    Аргументы:\n",
        "    N - int, количество случайных точек\n",
        "    D - int, количество измерений \n",
        "    R = 1 - float, радиус сферы\n",
        "    --------\n",
        "    Функция возвращает:\n",
        "    V - float, объем сферы\n",
        "    \"\"\"\n",
        "    V = (2*R)**D # объём куба, в котором генерируем точки\n",
        "    \n",
        "    q = np.random.uniform(low=-R, high=R, size=(N,D)) \n",
        "    \n",
        "    inside = 0\n",
        "    for i in range(N):\n",
        "        if np.linalg.norm(q[i,:]) <= R: #проверка попадания в шар (длина радиус-вектора точки меньше нуля)\n",
        "            inside += 1\n",
        "    \n",
        "    V = V*inside/N\n",
        "    \n",
        "    return V"
      ],
      "execution_count": 0,
      "outputs": []
    },
    {
      "cell_type": "markdown",
      "metadata": {
        "id": "V6kjE2vQ6OHH",
        "colab_type": "text"
      },
      "source": [
        "Постройте график зависимости относительной точности $\\epsilon$ которая достигается при фиксированном $N$ от размерности сферы $D$. Для относительной точности используйте выражение $\\epsilon = (V_{exact} - V_{random})/V_{exact}$."
      ]
    },
    {
      "cell_type": "code",
      "metadata": {
        "id": "7mP8TTCy6OHI",
        "colab_type": "code",
        "colab": {}
      },
      "source": [
        "def epsilon(N, D):\n",
        "    V = getSphereVolumeExact(D, R = 1.0)\n",
        "    Vr = getSphereVolumePseudorandom(N, D, R = 1)\n",
        "    return (V - Vr)/V"
      ],
      "execution_count": 0,
      "outputs": []
    },
    {
      "cell_type": "code",
      "metadata": {
        "id": "_3NJoBQEftcG",
        "colab_type": "code",
        "colab": {
          "base_uri": "https://localhost:8080/",
          "height": 300
        },
        "outputId": "cfc24620-a912-4045-a15c-1803ae3ec117"
      },
      "source": [
        "N = 10000\n",
        "D = 20 \n",
        "epsilon = [abs(epsilon(N,d)) for d in range(1, D+1)]\n",
        "plt.plot(range(1, D+1), epsilon)\n",
        "plt.xlabel(\"dimention\")\n",
        "plt.ylabel(\"eps\")\n"
      ],
      "execution_count": 16,
      "outputs": [
        {
          "output_type": "execute_result",
          "data": {
            "text/plain": [
              "Text(0, 0.5, 'eps')"
            ]
          },
          "metadata": {
            "tags": []
          },
          "execution_count": 16
        },
        {
          "output_type": "display_data",
          "data": {
            "image/png": "[encoded data removed]",
            "text/plain": [
              "<Figure size 432x288 with 1 Axes>"
            ]
          },
          "metadata": {
            "tags": [],
            "needs_background": "light"
          }
        }
      ]
    },
    {
      "cell_type": "markdown",
      "metadata": {
        "id": "C_zYgTDZ6OHX",
        "colab_type": "text"
      },
      "source": [
        "### Задание 1.3\n",
        "Напишите функцию, вычисляющую объем сферы методом Монте-Карло на квазислучайной последовательности Соболя.\n",
        "\n",
        "Для установки библиотеки `sobol_seq`:\n",
        "\n",
        "\n",
        "выполните `pip install sobol_seq` в Jupyter или\n",
        "\n",
        "выполните команду `pip install sobol_seq --user` в командном окне (если вы используете Jupyter Notebook в составе Anaconda откройте Anaconda Prompt и выполните команду pip в ней, после чего перезапустите Jupyter Notebook).\n"
      ]
    },
    {
      "cell_type": "code",
      "metadata": {
        "id": "Q9vlMZqr6OHb",
        "colab_type": "code",
        "colab": {
          "base_uri": "https://localhost:8080/",
          "height": 124
        },
        "outputId": "d05aeba7-3928-49d0-cb25-896e1d107d55"
      },
      "source": [
        "!pip install sobol_seq \n",
        "import sobol_seq"
      ],
      "execution_count": 19,
      "outputs": [
        {
          "output_type": "stream",
          "text": [
            "Collecting sobol_seq\n",
            "  Downloading https://files.pythonhosted.org/packages/e4/df/6c4ad25c0b48545a537b631030f7de7e4abb939e6d2964ac2169d4379c85/sobol_seq-0.2.0-py3-none-any.whl\n",
            "Requirement already satisfied: scipy in /usr/local/lib/python3.6/dist-packages (from sobol_seq) (1.4.1)\n",
            "Requirement already satisfied: numpy in /usr/local/lib/python3.6/dist-packages (from sobol_seq) (1.18.4)\n",
            "Installing collected packages: sobol-seq\n",
            "Successfully installed sobol-seq-0.2.0\n"
          ],
          "name": "stdout"
        }
      ]
    },
    {
      "cell_type": "markdown",
      "metadata": {
        "id": "SiS5mswG6OHo",
        "colab_type": "text"
      },
      "source": [
        "Используйте функцию `i4_sobol_generate`. Документацию по ней можно получить выполнив следующую строчку кода:"
      ]
    },
    {
      "cell_type": "code",
      "metadata": {
        "id": "IrJhychR6OHs",
        "colab_type": "code",
        "colab": {}
      },
      "source": [
        "sobol_seq.i4_sobol_generate?"
      ],
      "execution_count": 0,
      "outputs": []
    },
    {
      "cell_type": "code",
      "metadata": {
        "id": "A70OM0UF6OH4",
        "colab_type": "code",
        "colab": {}
      },
      "source": [
        "def getSphereVolumeQuasirandom(N, D, R = 1):\n",
        "    \"\"\"\n",
        "    Функция вычисляет значение объема D-мерной сферы радиуса R методом Монте-Кало на квазислучайных числах\n",
        "\n",
        "    --------\n",
        "    Аргументы:\n",
        "    N - int, количество случайных точек\n",
        "    D - int, количество измерений \n",
        "    R = 1 - float, радиус сферы\n",
        "    --------\n",
        "    Функция возвращает:\n",
        "    V - float, объем сферы\n",
        "    \"\"\"\n",
        "    V = (2*R)**D # объём куба, в котором генерируем точки\n",
        "    \n",
        "    q = sobol_seq.i4_sobol_generate(D,N) \n",
        "    \n",
        "    inside = 0\n",
        "    for i in range(N):\n",
        "        if np.linalg.norm(q[i,:]) <= R: #проверка попадания в шар (длина радиус-вектора точки меньше нуля)\n",
        "            inside += 1\n",
        "    \n",
        "    V = V*inside/N\n",
        "    \n",
        "    return V"
      ],
      "execution_count": 0,
      "outputs": []
    },
    {
      "cell_type": "markdown",
      "metadata": {
        "id": "WRDPJwEI6OIG",
        "colab_type": "text"
      },
      "source": [
        "Сравните точность вычисления объема для квазислучайной и псевдослучайной последовательностей, рассчитав  $\\epsilon(D)$, при таком же значении $N$, как в предыдущем задании. Постройте обе зависимости $\\epsilon(D)$ на одном графике в логарифмической шкале по $\\epsilon$."
      ]
    },
    {
      "cell_type": "code",
      "metadata": {
        "id": "sajL_DwC6OIH",
        "colab_type": "code",
        "colab": {}
      },
      "source": [
        "def epsilonSobol(N, D):\n",
        "    V = getSphereVolumeExact(D, R = 1.0)\n",
        "    Vr = getSphereVolumeQuasirandom(N, D, R = 1)\n",
        "    return (V - Vr)/V"
      ],
      "execution_count": 0,
      "outputs": []
    },
    {
      "cell_type": "code",
      "metadata": {
        "id": "irYyvZWViRyx",
        "colab_type": "code",
        "colab": {
          "base_uri": "https://localhost:8080/",
          "height": 300
        },
        "outputId": "82862291-e2bb-4071-976d-f84011378486"
      },
      "source": [
        "N = 10000\n",
        "D = 20 \n",
        "epsilon = [abs(epsilon(N,d)) for d in range(1, D+1)]\n",
        "epsilonSobol = [abs(epsilonSobol(N,d)) for d in range(1, D+1)]\n",
        "plt.plot(range(1, D+1), epsilon, label=\"Pseudorandom\")\n",
        "plt.plot(range(1, D+1), epsilonSobol, label=\"Quasirandom\")\n",
        "plt.xlabel(\"dimention\")\n",
        "plt.ylabel(\"epsilon\")\n",
        "plt.legend()\n"
      ],
      "execution_count": 28,
      "outputs": [
        {
          "output_type": "execute_result",
          "data": {
            "text/plain": [
              "<matplotlib.legend.Legend at 0x7fa082040240>"
            ]
          },
          "metadata": {
            "tags": []
          },
          "execution_count": 28
        },
        {
          "output_type": "display_data",
          "data": {
            "image/png": "[encoded data removed]",
            "text/plain": [
              "<Figure size 432x288 with 1 Axes>"
            ]
          },
          "metadata": {
            "tags": [],
            "needs_background": "light"
          }
        }
      ]
    },
    {
      "cell_type": "markdown",
      "metadata": {
        "id": "KOe0V1Kf6OIV",
        "colab_type": "text"
      },
      "source": [
        "Сделайте вывды о работе псевдослучайной и квазислучайной последовательностях. "
      ]
    },
    {
      "cell_type": "markdown",
      "metadata": {
        "id": "AedfzlSZjbBU",
        "colab_type": "text"
      },
      "source": [
        "Касательно времени работы, второй алгоритм (квазислучайная последовательность) работает сильно дольше первого (псевдослучайно), а касательно точности: оба при установленном N дают практически одинаковые резульаты."
      ]
    },
    {
      "cell_type": "markdown",
      "metadata": {
        "id": "41lSwxb16OIm",
        "colab_type": "text"
      },
      "source": [
        "## Задание 2\n",
        "\n",
        "Рассмотрим решетку $n\\times n$, в которой каждой ячейке соответствует спин $\\sigma_i$ равный $+1$ или $-1$. При этом между соседними ячейками существует энергия взаимодействия\n",
        "$$\n",
        "E_i = -J \\sigma_i \\sigma_j\n",
        "$$\n",
        "Тогда энергия каждой ячейки \n",
        "$$\n",
        "E_i = -J \\sigma_i \\sum_j \\sigma_j\n",
        "$$\n",
        "где суммирование подразумевается только по соседним с $i$-ой ячейкой.\n",
        "\n",
        "При нулевой температуре энергитически более выгодным состоянием является состояние, когда все спины одинаково ориентированы. Однако при ненулевой температуре вероятность перехода в более возбужденное состояние пропорциональна $\\sim \\exp(-\\Delta E/ k T)$.\n",
        "\n",
        "Явное численное моделирование такой системы (модели Изинга) является проблематичным, поскольку количество возможных состояний системы $2^N$, где $N$ - общее число узлов, и уже для двумерной сетки $16\\times 16$ это число становится астрономически большим. "
      ]
    },
    {
      "cell_type": "markdown",
      "metadata": {
        "id": "SkE9txln6OIm",
        "colab_type": "text"
      },
      "source": [
        "На помощь приходят методы Монте-Карло. Одна из простейших его реализаций (алгоритм Метрополиса — Гастингса):\n",
        "1. Задаем случайное начальное состояние\n",
        "2. Выбираем случайную ячейку\n",
        "3. Переворачиваем её спин и считаем изменение энергии $\\delta E$ данной ячейки.\n",
        "4. Если изменение энергии отрицательное, оставляем спин перевернутым\n",
        "5. Если изменение энергии положительное, оставляем спин перевернутым с вероятностью $\\exp(-\\delta E/kT)$\n",
        "6. Повторяем пункты 2-5 нужное количество раз\n",
        "\n",
        "Спустя достаточно большое количество повторений устанавливается равновесное состояние. "
      ]
    },
    {
      "cell_type": "markdown",
      "metadata": {
        "id": "l2zk8mE_6OIq",
        "colab_type": "text"
      },
      "source": [
        "Реализуем данный алгоритм: \n",
        "1. Задайте начальное случайное расраспределение в виде матрицы из $+1$ и $-1$ размерности $N\\times N$:"
      ]
    },
    {
      "cell_type": "code",
      "metadata": {
        "id": "U4c54lNc6OIr",
        "colab_type": "code",
        "colab": {}
      },
      "source": [
        "def getInitialState(N):\n",
        "    '''\n",
        "    Функция задает случайное начальное состояние\n",
        "    ---------\n",
        "    Аргументы:\n",
        "    N - int, линейный размер решетки \n",
        "    --------\n",
        "    Функция возвращает:\n",
        "    state - numpy ndarray of ints, массив состояния системы размера NxN\n",
        "    '''\n",
        "    state = -2 * np.random.randint(2, size=(N,N)) + 1\n",
        "    \n",
        "    return state"
      ],
      "execution_count": 0,
      "outputs": []
    },
    {
      "cell_type": "markdown",
      "metadata": {
        "id": "ngvynkuQ6OI9",
        "colab_type": "text"
      },
      "source": [
        "2. Напишите функцию, которая для ячейки $(i,j)$ расчитывает изменение её энергии, если изменить её знак. При этом для простоты предполагаем, во-первых, что $J=1$ (на него отнормируем kT), и во-вторых, что элементы находящиеся на верхней и нижней (левой и правой) границах находятся рядом друг с другом (топология тора).  \n"
      ]
    },
    {
      "cell_type": "code",
      "metadata": {
        "id": "6y4sCKVa6OI-",
        "colab_type": "code",
        "colab": {}
      },
      "source": [
        "def getDeltaE(i, j, state):\n",
        "    '''\n",
        "    Функция расчитывает и возвращает изменение энергии ячейки (i,j) в случае ее переворота (не меняя состояния state)\n",
        "    \n",
        "    ---------\n",
        "    Аргументы:\n",
        "    i - int, адресс ячейки вдоль оси 0\n",
        "    j - int, адресс ячейки вдоль оси 1\n",
        "    state - numpy ndarray of ints, массив состояния системы размера NxN\n",
        "    --------\n",
        "    Функция возвращает:\n",
        "    dE - float, изменение энергии\n",
        "    '''\n",
        "    N = len(state)\n",
        "    state1 = np.hstack((state[:, N-1].reshape(N, -1), state, state[:, 0].reshape(N, -1)))\n",
        "    state2 = np.vstack((state1[N-1, :], state1, state1[0, :]))\n",
        "    i+=1\n",
        "    j+=1\n",
        "    E = -state2[i,j]*np.sum(state2[i+1,j]+state2[i-1,j]+state2[i,j+1]+state2[i,j-1])\n",
        "    dE = -2*E\n",
        "    return dE"
      ],
      "execution_count": 0,
      "outputs": []
    },
    {
      "cell_type": "markdown",
      "metadata": {
        "id": "gAFyow_z6OJR",
        "colab_type": "text"
      },
      "source": [
        "3. Напишите функцию, которая $N^2$ раз для разных случайных $(i,j)$ меняет спин в зависимости от изменения энергии, согласно пунктам 4. и 5. "
      ]
    },
    {
      "cell_type": "code",
      "metadata": {
        "id": "EUCsLAnJ6OJS",
        "colab_type": "code",
        "colab": {}
      },
      "source": [
        "def makeFlip(T, state):\n",
        "    '''\n",
        "    Функция N^2 раз переворачивает спин, и принимает решение оставить его перевернутым или нет, согласно правилам 4. и 5.\n",
        "    \n",
        "    ---------\n",
        "    Аргументы:\n",
        "    T - float, положительное число, безразмерный коэфициент, характеризующий температуру, равный kT/J\n",
        "    state - numpy ndarray of ints, массив состояния системы размера NxN\n",
        "    --------\n",
        "    Функция возвращает:\n",
        "    state - numpy ndarray of ints, массив нового состояния системы размера NxN\n",
        "    '''\n",
        "    N = len(state)\n",
        "    for count in range(N*N):\n",
        "        i = np.random.randint(0, high=N)\n",
        "        j = np.random.randint(0, high=N)\n",
        "        dE = getDeltaE(i, j, state)\n",
        "        if dE < 0:\n",
        "            state[i,j] *= -1\n",
        "        else:\n",
        "            if np.random.sample() < np.exp(-dE / T):\n",
        "                state[i,j] *= -1\n",
        "    \n",
        "    return state"
      ],
      "execution_count": 0,
      "outputs": []
    },
    {
      "cell_type": "markdown",
      "metadata": {
        "id": "th4ndKro6OJk",
        "colab_type": "text"
      },
      "source": [
        "4. Напишите функцию, которая будет рассчитывать значение энергии всей системы (предполагаем $J=1$)."
      ]
    },
    {
      "cell_type": "code",
      "metadata": {
        "id": "YwY3uj296OJl",
        "colab_type": "code",
        "colab": {}
      },
      "source": [
        "def getEnergy(state):\n",
        "    '''\n",
        "    Функция, рассчитывает значение энергии всей системы\n",
        "    ---------\n",
        "    Аргументы:\n",
        "    state - numpy ndarray of ints, массив состояния системы размера NxN\n",
        "    --------\n",
        "    Функция возвращает:\n",
        "    E - float, значение энергии системы\n",
        "    '''\n",
        "    E=0\n",
        "    N = len(state) \n",
        "    state1 = np.hstack((state[:, N-1].reshape(N, -1), state, state[:, 0].reshape(N, -1)))\n",
        "    state2 = np.vstack((state1[N-1, :], state1, state1[0, :]))\n",
        "    for i in range(1, N):\n",
        "        for j in range(1, N):\n",
        "            E += -state2[i,j]*np.sum(state2[i+1,j]+state2[i-1,j]+state2[i,j+1]+state2[i,j-1])\n",
        "    return E"
      ],
      "execution_count": 0,
      "outputs": []
    },
    {
      "cell_type": "markdown",
      "metadata": {
        "id": "1k_4UKha6OJz",
        "colab_type": "text"
      },
      "source": [
        "5. Напишите функцию, которая будет рассчитывать значение намагниченности всей системы $M=\\sum \\sigma$"
      ]
    },
    {
      "cell_type": "code",
      "metadata": {
        "id": "2YW71S6c6OKW",
        "colab_type": "code",
        "colab": {}
      },
      "source": [
        "def getMagnetization(state):    \n",
        "    '''\n",
        "    Функция, рассчитывает значение намагниченности всей системы\n",
        "    ---------\n",
        "    Аргументы:\n",
        "    state - numpy ndarray of ints, массив состояния системы размера NxN\n",
        "    --------\n",
        "    Функция возвращает:\n",
        "    M - float, значение намагниченности системы\n",
        "    '''\n",
        "    M = np.sum(state)\n",
        "    return M"
      ],
      "execution_count": 0,
      "outputs": []
    },
    {
      "cell_type": "markdown",
      "metadata": {
        "id": "nTeOX7K86OKd",
        "colab_type": "text"
      },
      "source": [
        "В следующей ячейке кода зададим начальные параметры: \n",
        "\n",
        "**Nt** - количество точек по температуре, \n",
        "\n",
        "**N** - линейный размер решетки, \n",
        "\n",
        "**eqStep** - количество попыток переворота спина, в течение которых система приводится к равновесному сосотоянию. Обратите внимание, что это число должно увеличиваться пропорционально размеру всей сетки,\n",
        "\n",
        "**steps** - количество попыток переворота спина, в течение которых рассчитывается значения энергии и намагниченности (нужно для усреднения расчитанных значений по ансамблю состояний, близких к равновесному)"
      ]
    },
    {
      "cell_type": "code",
      "metadata": {
        "id": "2v_SkvNS6OKg",
        "colab_type": "code",
        "colab": {}
      },
      "source": [
        "N       = 10         # размер решетки NxN\n",
        "Nt      = 10         # количество точек температуры\n",
        "eqSteps = 150        # количество раз выполнения makeFlip для установления равновесия\n",
        "steps   = 30         # количество раз выполнения makeFlip для усреднения энергии и намагниченности\n",
        "\n",
        "T = np.linspace(0.5, 5, Nt); \n",
        "E, M = np.zeros(Nt), np.zeros(Nt)"
      ],
      "execution_count": 0,
      "outputs": []
    },
    {
      "cell_type": "code",
      "metadata": {
        "id": "kfjOvnHc6OKk",
        "colab_type": "code",
        "colab": {
          "base_uri": "https://localhost:8080/",
          "height": 337
        },
        "outputId": "6ce19831-7142-4ae9-aab5-34c6a2559298"
      },
      "source": [
        "for t in range(Nt):\n",
        "    print(\"Complete\", t/Nt*100, '%\\r', end='')\n",
        "    \n",
        "    Esum = Msum = 0\n",
        "    state = getInitialState(N)\n",
        "    \n",
        "    for i in range(eqSteps):         # установление статистического равновесия\n",
        "        makeFlip(T[t], state)          \n",
        "\n",
        "    for i in range(steps):           # суммирование по разным состояниям близким к равновеснсому\n",
        "        makeFlip(T[t], state)          \n",
        "        Esum += getEnergy(state)       \n",
        "        Msum += getMagnetization(state) \n",
        "\n",
        "    E[t] = Esum / (steps * N * N)\n",
        "    M[t] = Msum / (steps * N * N)\n",
        "\n",
        "print(\"Done              \\r\", end='')\n",
        "\n",
        "_, ax = plt.subplots(1,2,figsize=(10, 5));\n",
        "\n",
        "ax[0].scatter(T, E)\n",
        "ax[0].set_xlabel(\"Temperature\");\n",
        "ax[0].set_ylabel(\"Energy \");\n",
        "\n",
        "ax[1].scatter(T, abs(M), color = 'blue')\n",
        "ax[1].set_xlabel(\"Temperature\"); \n",
        "ax[1].set_ylabel(\"Magnetization \");"
      ],
      "execution_count": 35,
      "outputs": [
        {
          "output_type": "stream",
          "text": [
            ""
          ],
          "name": "stdout"
        },
        {
          "output_type": "display_data",
          "data": {
            "image/png": "[encoded data removed]",
            "text/plain": [
              "<Figure size 720x360 with 2 Axes>"
            ]
          },
          "metadata": {
            "tags": [],
            "needs_background": "light"
          }
        }
      ]
    },
    {
      "cell_type": "markdown",
      "metadata": {
        "id": "0cTKj2x76OKp",
        "colab_type": "text"
      },
      "source": [
        "Интерпретируйте с точки зрения физики полученные графики. Описывают ли они поведение ферромагнетиков и фазовые переходы?"
      ]
    },
    {
      "cell_type": "markdown",
      "metadata": {
        "id": "XX9GU4DRnLab",
        "colab_type": "text"
      },
      "source": [
        "Видно что для графика E(T) заметен характерный рост, что физически обосновано при росте температуры. \n",
        "Касательно графика M(T): с повышением температуры ферромагнитный материал теряет способность иметь намагниченность в отсутвие внешнего поля.\n"
      ]
    },
    {
      "cell_type": "markdown",
      "metadata": {
        "id": "RNbJ1KEJ6OKu",
        "colab_type": "text"
      },
      "source": [
        "Задайте новое сосотояние системы с достаточно большим $N$ и визуализируйте его думя цветами (например с помощью `plt.scatter`). Примените несколько раз к этому сосотоянию функциию makeFlip с низкой и с высокой температурами. Объясните наблюдаемое"
      ]
    },
    {
      "cell_type": "code",
      "metadata": {
        "id": "B7bo2iip6OKv",
        "colab_type": "code",
        "colab": {}
      },
      "source": [
        "N = 64\n",
        "state = getInitialState(N)"
      ],
      "execution_count": 0,
      "outputs": []
    },
    {
      "cell_type": "code",
      "metadata": {
        "id": "vFc1zlMB6OK1",
        "colab_type": "code",
        "colab": {
          "base_uri": "https://localhost:8080/",
          "height": 303
        },
        "outputId": "7d046775-bf2a-46ce-ae42-e62244688238"
      },
      "source": [
        "plt.figure()\n",
        "plt.imshow(state)\n",
        "plt.xlabel('x')\n",
        "plt.ylabel('y')"
      ],
      "execution_count": 38,
      "outputs": [
        {
          "output_type": "execute_result",
          "data": {
            "text/plain": [
              "Text(0, 0.5, 'y')"
            ]
          },
          "metadata": {
            "tags": []
          },
          "execution_count": 38
        },
        {
          "output_type": "display_data",
          "data": {
            "image/png": "[encoded data removed]",
            "text/plain": [
              "<Figure size 432x288 with 1 Axes>"
            ]
          },
          "metadata": {
            "tags": [],
            "needs_background": "light"
          }
        }
      ]
    },
    {
      "cell_type": "code",
      "metadata": {
        "id": "YqpZ2Laa6OK6",
        "colab_type": "code",
        "colab": {
          "base_uri": "https://localhost:8080/",
          "height": 285
        },
        "outputId": "7fd4f7b5-8fcc-4d7a-aa30-0a30ba046ba5"
      },
      "source": [
        "plt.figure()\n",
        "plt.imshow(makeFlip(0.5, state))\n",
        "plt.xlabel('x')\n",
        "plt.ylabel('y')\n",
        "plt.show()"
      ],
      "execution_count": 39,
      "outputs": [
        {
          "output_type": "display_data",
          "data": {
            "image/png": "[encoded data removed]",
            "text/plain": [
              "<Figure size 432x288 with 1 Axes>"
            ]
          },
          "metadata": {
            "tags": [],
            "needs_background": "light"
          }
        }
      ]
    },
    {
      "cell_type": "code",
      "metadata": {
        "id": "bMW-YF34pARO",
        "colab_type": "code",
        "colab": {
          "base_uri": "https://localhost:8080/",
          "height": 285
        },
        "outputId": "3fc65efc-d5cf-4775-ab5c-a115c1daf573"
      },
      "source": [
        "plt.figure()\n",
        "plt.imshow(makeFlip(10, state))\n",
        "plt.xlabel('x')\n",
        "plt.ylabel('y')\n",
        "plt.show()"
      ],
      "execution_count": 40,
      "outputs": [
        {
          "output_type": "display_data",
          "data": {
            "image/png": "[encoded data removed]",
            "text/plain": [
              "<Figure size 432x288 with 1 Axes>"
            ]
          },
          "metadata": {
            "tags": [],
            "needs_background": "light"
          }
        }
      ]
    },
    {
      "cell_type": "markdown",
      "metadata": {
        "id": "YI2K6vBPpHBG",
        "colab_type": "text"
      },
      "source": [
        "Видно, что при стремлении температуры к 0 спины расположены менее хаотично, то есть, наблюдаются целые области в которых спины имеют одинаковое направление. При большой же температуре не наблюдается никакой упорядоченности. Следовательно, и намагниченности в этом случае нет."
      ]
    }
  ]
}